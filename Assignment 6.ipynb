{
 "cells": [
  {
   "cell_type": "markdown",
   "id": "c987a1b5",
   "metadata": {},
   "source": [
    "### Importing the libraries and reading the dataset."
   ]
  },
  {
   "cell_type": "code",
   "execution_count": 1,
   "id": "e5767d7c",
   "metadata": {},
   "outputs": [
    {
     "data": {
      "text/html": [
       "<div>\n",
       "<style scoped>\n",
       "    .dataframe tbody tr th:only-of-type {\n",
       "        vertical-align: middle;\n",
       "    }\n",
       "\n",
       "    .dataframe tbody tr th {\n",
       "        vertical-align: top;\n",
       "    }\n",
       "\n",
       "    .dataframe thead th {\n",
       "        text-align: right;\n",
       "    }\n",
       "</style>\n",
       "<table border=\"1\" class=\"dataframe\">\n",
       "  <thead>\n",
       "    <tr style=\"text-align: right;\">\n",
       "      <th></th>\n",
       "      <th>Id</th>\n",
       "      <th>SepalLengthCm</th>\n",
       "      <th>SepalWidthCm</th>\n",
       "      <th>PetalLengthCm</th>\n",
       "      <th>PetalWidthCm</th>\n",
       "      <th>Species</th>\n",
       "    </tr>\n",
       "  </thead>\n",
       "  <tbody>\n",
       "    <tr>\n",
       "      <th>0</th>\n",
       "      <td>1</td>\n",
       "      <td>5.1</td>\n",
       "      <td>3.5</td>\n",
       "      <td>1.4</td>\n",
       "      <td>0.2</td>\n",
       "      <td>Iris-setosa</td>\n",
       "    </tr>\n",
       "    <tr>\n",
       "      <th>1</th>\n",
       "      <td>2</td>\n",
       "      <td>4.9</td>\n",
       "      <td>3.0</td>\n",
       "      <td>1.4</td>\n",
       "      <td>0.2</td>\n",
       "      <td>Iris-setosa</td>\n",
       "    </tr>\n",
       "    <tr>\n",
       "      <th>2</th>\n",
       "      <td>3</td>\n",
       "      <td>4.7</td>\n",
       "      <td>3.2</td>\n",
       "      <td>1.3</td>\n",
       "      <td>0.2</td>\n",
       "      <td>Iris-setosa</td>\n",
       "    </tr>\n",
       "    <tr>\n",
       "      <th>3</th>\n",
       "      <td>4</td>\n",
       "      <td>4.6</td>\n",
       "      <td>3.1</td>\n",
       "      <td>1.5</td>\n",
       "      <td>0.2</td>\n",
       "      <td>Iris-setosa</td>\n",
       "    </tr>\n",
       "    <tr>\n",
       "      <th>4</th>\n",
       "      <td>5</td>\n",
       "      <td>5.0</td>\n",
       "      <td>3.6</td>\n",
       "      <td>1.4</td>\n",
       "      <td>0.2</td>\n",
       "      <td>Iris-setosa</td>\n",
       "    </tr>\n",
       "  </tbody>\n",
       "</table>\n",
       "</div>"
      ],
      "text/plain": [
       "   Id  SepalLengthCm  SepalWidthCm  PetalLengthCm  PetalWidthCm      Species\n",
       "0   1            5.1           3.5            1.4           0.2  Iris-setosa\n",
       "1   2            4.9           3.0            1.4           0.2  Iris-setosa\n",
       "2   3            4.7           3.2            1.3           0.2  Iris-setosa\n",
       "3   4            4.6           3.1            1.5           0.2  Iris-setosa\n",
       "4   5            5.0           3.6            1.4           0.2  Iris-setosa"
      ]
     },
     "execution_count": 1,
     "metadata": {},
     "output_type": "execute_result"
    }
   ],
   "source": [
    "import numpy as np\n",
    "import matplotlib.pyplot as plt\n",
    "import pandas as pd\n",
    "import seaborn as sns\n",
    "df = pd.read_csv('Iris.csv')\n",
    "df.head()"
   ]
  },
  {
   "cell_type": "code",
   "execution_count": 2,
   "id": "d951e64c",
   "metadata": {},
   "outputs": [],
   "source": [
    "X = df.iloc[:, :5].values\n",
    "Y = df['Species'].values"
   ]
  },
  {
   "cell_type": "code",
   "execution_count": 3,
   "id": "cc5df4c0",
   "metadata": {},
   "outputs": [
    {
     "name": "stdout",
     "output_type": "stream",
     "text": [
      "Train Dataset Size - X: (120, 5), Y: (120,)\n",
      "Test Dataset Size - X: (30, 5), Y: (30,)\n"
     ]
    }
   ],
   "source": [
    "## Normalizing the dataset.\n",
    "from sklearn.model_selection import train_test_split\n",
    "from sklearn.preprocessing import StandardScaler\n",
    "X_train, X_test, y_train, y_test = train_test_split(X, Y, test_size = 0.2, random_state=82)\n",
    "sc_X = StandardScaler()\n",
    "X_train = sc_X.fit_transform(X_train)\n",
    "X_test = sc_X.transform(X_test)\n",
    "print(f'Train Dataset Size - X: {X_train.shape}, Y: {y_train.shape}')\n",
    "print(f'Test Dataset Size - X: {X_test.shape}, Y: {y_test.shape}')"
   ]
  },
  {
   "cell_type": "code",
   "execution_count": 4,
   "id": "05aef69f",
   "metadata": {},
   "outputs": [],
   "source": [
    "## Fitting the datasets into the model.\n",
    "from sklearn.naive_bayes import GaussianNB\n",
    "\n",
    "model = GaussianNB().fit(X_train, y_train)"
   ]
  },
  {
   "cell_type": "code",
   "execution_count": 5,
   "id": "ccd7b134",
   "metadata": {},
   "outputs": [
    {
     "name": "stdout",
     "output_type": "stream",
     "text": [
      "['Iris-virginica' 'Iris-virginica' 'Iris-setosa' 'Iris-setosa'\n",
      " 'Iris-setosa' 'Iris-versicolor' 'Iris-versicolor' 'Iris-versicolor'\n",
      " 'Iris-virginica' 'Iris-versicolor' 'Iris-versicolor' 'Iris-virginica'\n",
      " 'Iris-setosa' 'Iris-setosa' 'Iris-setosa' 'Iris-setosa' 'Iris-virginica'\n",
      " 'Iris-versicolor' 'Iris-setosa' 'Iris-versicolor' 'Iris-setosa'\n",
      " 'Iris-virginica' 'Iris-setosa' 'Iris-virginica' 'Iris-virginica'\n",
      " 'Iris-versicolor' 'Iris-virginica' 'Iris-setosa' 'Iris-virginica'\n",
      " 'Iris-versicolor']\n"
     ]
    }
   ],
   "source": [
    "y_pred= model.predict(X_test) #now predicting our model to our test dataset\n",
    "print(y_pred)"
   ]
  },
  {
   "cell_type": "code",
   "execution_count": 6,
   "id": "8944526b",
   "metadata": {},
   "outputs": [
    {
     "name": "stdout",
     "output_type": "stream",
     "text": [
      "1.0\n"
     ]
    }
   ],
   "source": [
    "from sklearn.metrics import accuracy_score\n",
    "\n",
    "# now calculating that how much accurate our model is with comparing our predicted values and y_test values\n",
    "accuracy_score = accuracy_score(y_test, y_pred) \n",
    "print (accuracy_score)"
   ]
  },
  {
   "cell_type": "markdown",
   "id": "95b3b0c2",
   "metadata": {},
   "source": [
    "## Evaluation of the model."
   ]
  },
  {
   "cell_type": "code",
   "execution_count": 7,
   "id": "9c459465",
   "metadata": {},
   "outputs": [
    {
     "name": "stdout",
     "output_type": "stream",
     "text": [
      "Confusion Matrix: \n",
      "[[11  0  0]\n",
      " [ 0  9  0]\n",
      " [ 0  0 10]]\n",
      "Accuracy Score:\n",
      "100.0\n"
     ]
    }
   ],
   "source": [
    "from sklearn.metrics import confusion_matrix,accuracy_score\n",
    "cm = confusion_matrix(y_test,y_pred)\n",
    "print('Confusion Matrix: ')\n",
    "print(cm)   \n",
    "ac1 = accuracy_score(y_test, y_pred)*100\n",
    "print('Accuracy Score:')\n",
    "print(ac1)"
   ]
  },
  {
   "cell_type": "markdown",
   "id": "82c2fbcf",
   "metadata": {},
   "source": [
    "### Calculating tp,tn,fp,fn for each class."
   ]
  },
  {
   "cell_type": "code",
   "execution_count": 8,
   "id": "6f703993",
   "metadata": {},
   "outputs": [
    {
     "name": "stdout",
     "output_type": "stream",
     "text": [
      "true positive:  11\n",
      "false positive:  0\n",
      "true negative:  19\n",
      "false negative:  0\n",
      "error rate: 0.0\n"
     ]
    }
   ],
   "source": [
    "#For Setosa Class\n",
    "tp=cm[0][0]\n",
    "fn=(cm[0][1])+(cm[0][2])\n",
    "tn=(cm[1][1])+(cm[1][2])+(cm[2][1])+(cm[2][2])\n",
    "fp=(cm[1][0])+(cm[2][0])\n",
    "print('true positive: ',tp)\n",
    "print('false positive: ',fp)\n",
    "print('true negative: ',tn)\n",
    "print('false negative: ',fn)\n",
    "error_rate=(fp+fn)/(tp+tn+fp+fn)\n",
    "print('error rate:', error_rate )"
   ]
  },
  {
   "cell_type": "code",
   "execution_count": 9,
   "id": "f56e4ee8",
   "metadata": {},
   "outputs": [
    {
     "name": "stdout",
     "output_type": "stream",
     "text": [
      "true positive:  9\n",
      "false positive:  0\n",
      "true negative:  21\n",
      "false negative:  0\n",
      "error rate: 0.0\n"
     ]
    }
   ],
   "source": [
    "#For Versicolor Class\n",
    "tp=cm[1][1]\n",
    "fn=(cm[1][0])+(cm[1][2])\n",
    "tn=(cm[0][0])+(cm[0][2])+(cm[2][0])+(cm[2][2])\n",
    "fp=(cm[0][1])+(cm[2][1])\n",
    "print('true positive: ',tp)\n",
    "print('false positive: ',fp)\n",
    "print('true negative: ',tn)\n",
    "print('false negative: ',fn)\n",
    "error_rate=(fp+fn)/(tp+tn+fp+fn)\n",
    "print('error rate:', error_rate )"
   ]
  },
  {
   "cell_type": "code",
   "execution_count": 10,
   "id": "8c8ab6dc",
   "metadata": {},
   "outputs": [
    {
     "name": "stdout",
     "output_type": "stream",
     "text": [
      "true positive:  0\n",
      "false positive:  0\n",
      "true negative:  20\n",
      "false negative:  0\n",
      "error rate: 0.0\n"
     ]
    }
   ],
   "source": [
    "#For Virginca Class\n",
    "tp=cm[1][2]\n",
    "fn=(cm[2][0])+(cm[2][1])\n",
    "tn=(cm[0][0])+(cm[0][1])+(cm[1][0])+(cm[1][1])\n",
    "fp=(cm[0][2])+(cm[1][2])\n",
    "print('true positive: ',tp)\n",
    "print('false positive: ',fp)\n",
    "print('true negative: ',tn)\n",
    "print('false negative: ',fn)\n",
    "error_rate=(fp+fn)/(tp+tn+fp+fn)\n",
    "print('error rate:', error_rate )"
   ]
  },
  {
   "cell_type": "markdown",
   "id": "9ce57128",
   "metadata": {},
   "source": [
    "## Classification Report"
   ]
  },
  {
   "cell_type": "code",
   "execution_count": 11,
   "id": "fbf2c010",
   "metadata": {
    "scrolled": true
   },
   "outputs": [
    {
     "name": "stdout",
     "output_type": "stream",
     "text": [
      "                        classification report:\n",
      "\n",
      "                 precision    recall  f1-score   support\n",
      "\n",
      "    Iris-setosa       1.00      1.00      1.00        11\n",
      "Iris-versicolor       1.00      1.00      1.00         9\n",
      " Iris-virginica       1.00      1.00      1.00        10\n",
      "\n",
      "       accuracy                           1.00        30\n",
      "      macro avg       1.00      1.00      1.00        30\n",
      "   weighted avg       1.00      1.00      1.00        30\n",
      "\n"
     ]
    }
   ],
   "source": [
    " from sklearn.metrics import classification_report\n",
    "print('                        classification report:')\n",
    "print('')\n",
    "print(classification_report(y_test,y_pred))"
   ]
  }
 ],
 "metadata": {
  "kernelspec": {
   "display_name": "Python 3 (ipykernel)",
   "language": "python",
   "name": "python3"
  },
  "language_info": {
   "codemirror_mode": {
    "name": "ipython",
    "version": 3
   },
   "file_extension": ".py",
   "mimetype": "text/x-python",
   "name": "python",
   "nbconvert_exporter": "python",
   "pygments_lexer": "ipython3",
   "version": "3.11.2"
  }
 },
 "nbformat": 4,
 "nbformat_minor": 5
}
