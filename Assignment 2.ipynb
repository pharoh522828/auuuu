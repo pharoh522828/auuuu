{
 "cells": [
  {
   "cell_type": "code",
   "execution_count": 1,
   "id": "881cbe7f",
   "metadata": {},
   "outputs": [],
   "source": [
    "import numpy as np\n",
    "import pandas as pd"
   ]
  },
  {
   "cell_type": "markdown",
   "id": "0a41c04c",
   "metadata": {},
   "source": [
    "## Reading the data"
   ]
  },
  {
   "cell_type": "code",
   "execution_count": 2,
   "id": "edc24a89",
   "metadata": {},
   "outputs": [],
   "source": [
    "new=pd.read_csv('EduData.csv')"
   ]
  },
  {
   "cell_type": "code",
   "execution_count": 3,
   "id": "e235c1ea",
   "metadata": {},
   "outputs": [
    {
     "data": {
      "text/html": [
       "<div>\n",
       "<style scoped>\n",
       "    .dataframe tbody tr th:only-of-type {\n",
       "        vertical-align: middle;\n",
       "    }\n",
       "\n",
       "    .dataframe tbody tr th {\n",
       "        vertical-align: top;\n",
       "    }\n",
       "\n",
       "    .dataframe thead th {\n",
       "        text-align: right;\n",
       "    }\n",
       "</style>\n",
       "<table border=\"1\" class=\"dataframe\">\n",
       "  <thead>\n",
       "    <tr style=\"text-align: right;\">\n",
       "      <th></th>\n",
       "      <th>gender</th>\n",
       "      <th>NationalITy</th>\n",
       "      <th>PlaceofBirth</th>\n",
       "      <th>StageID</th>\n",
       "      <th>GradeID</th>\n",
       "      <th>SectionID</th>\n",
       "      <th>Topic</th>\n",
       "      <th>Semester</th>\n",
       "      <th>Relation</th>\n",
       "      <th>raisedhands</th>\n",
       "      <th>VisITedResources</th>\n",
       "      <th>AnnouncementsView</th>\n",
       "      <th>Discussion</th>\n",
       "      <th>ParentAnsweringSurvey</th>\n",
       "      <th>ParentschoolSatisfaction</th>\n",
       "      <th>StudentAbsenceDays</th>\n",
       "      <th>Class</th>\n",
       "    </tr>\n",
       "  </thead>\n",
       "  <tbody>\n",
       "    <tr>\n",
       "      <th>0</th>\n",
       "      <td>M</td>\n",
       "      <td>KW</td>\n",
       "      <td>KuwaIT</td>\n",
       "      <td>lowerlevel</td>\n",
       "      <td>G-04</td>\n",
       "      <td>A</td>\n",
       "      <td>IT</td>\n",
       "      <td>F</td>\n",
       "      <td>Father</td>\n",
       "      <td>15</td>\n",
       "      <td>16</td>\n",
       "      <td>2</td>\n",
       "      <td>20</td>\n",
       "      <td>Yes</td>\n",
       "      <td>Good</td>\n",
       "      <td>Under-7</td>\n",
       "      <td>M</td>\n",
       "    </tr>\n",
       "    <tr>\n",
       "      <th>1</th>\n",
       "      <td>M</td>\n",
       "      <td>KW</td>\n",
       "      <td>KuwaIT</td>\n",
       "      <td>lowerlevel</td>\n",
       "      <td>G-04</td>\n",
       "      <td>A</td>\n",
       "      <td>IT</td>\n",
       "      <td>F</td>\n",
       "      <td>Father</td>\n",
       "      <td>20</td>\n",
       "      <td>20</td>\n",
       "      <td>3</td>\n",
       "      <td>25</td>\n",
       "      <td>Yes</td>\n",
       "      <td>Good</td>\n",
       "      <td>Under-7</td>\n",
       "      <td>M</td>\n",
       "    </tr>\n",
       "    <tr>\n",
       "      <th>2</th>\n",
       "      <td>M</td>\n",
       "      <td>KW</td>\n",
       "      <td>KuwaIT</td>\n",
       "      <td>lowerlevel</td>\n",
       "      <td>G-04</td>\n",
       "      <td>A</td>\n",
       "      <td>IT</td>\n",
       "      <td>F</td>\n",
       "      <td>Father</td>\n",
       "      <td>10</td>\n",
       "      <td>7</td>\n",
       "      <td>0</td>\n",
       "      <td>30</td>\n",
       "      <td>No</td>\n",
       "      <td>Bad</td>\n",
       "      <td>Above-7</td>\n",
       "      <td>L</td>\n",
       "    </tr>\n",
       "    <tr>\n",
       "      <th>3</th>\n",
       "      <td>M</td>\n",
       "      <td>KW</td>\n",
       "      <td>KuwaIT</td>\n",
       "      <td>lowerlevel</td>\n",
       "      <td>G-04</td>\n",
       "      <td>A</td>\n",
       "      <td>IT</td>\n",
       "      <td>F</td>\n",
       "      <td>Father</td>\n",
       "      <td>30</td>\n",
       "      <td>25</td>\n",
       "      <td>5</td>\n",
       "      <td>35</td>\n",
       "      <td>No</td>\n",
       "      <td>Bad</td>\n",
       "      <td>Above-7</td>\n",
       "      <td>L</td>\n",
       "    </tr>\n",
       "    <tr>\n",
       "      <th>4</th>\n",
       "      <td>M</td>\n",
       "      <td>KW</td>\n",
       "      <td>KuwaIT</td>\n",
       "      <td>lowerlevel</td>\n",
       "      <td>G-04</td>\n",
       "      <td>A</td>\n",
       "      <td>IT</td>\n",
       "      <td>F</td>\n",
       "      <td>Father</td>\n",
       "      <td>40</td>\n",
       "      <td>50</td>\n",
       "      <td>12</td>\n",
       "      <td>50</td>\n",
       "      <td>No</td>\n",
       "      <td>Bad</td>\n",
       "      <td>Above-7</td>\n",
       "      <td>M</td>\n",
       "    </tr>\n",
       "    <tr>\n",
       "      <th>...</th>\n",
       "      <td>...</td>\n",
       "      <td>...</td>\n",
       "      <td>...</td>\n",
       "      <td>...</td>\n",
       "      <td>...</td>\n",
       "      <td>...</td>\n",
       "      <td>...</td>\n",
       "      <td>...</td>\n",
       "      <td>...</td>\n",
       "      <td>...</td>\n",
       "      <td>...</td>\n",
       "      <td>...</td>\n",
       "      <td>...</td>\n",
       "      <td>...</td>\n",
       "      <td>...</td>\n",
       "      <td>...</td>\n",
       "      <td>...</td>\n",
       "    </tr>\n",
       "    <tr>\n",
       "      <th>475</th>\n",
       "      <td>F</td>\n",
       "      <td>Jordan</td>\n",
       "      <td>Jordan</td>\n",
       "      <td>MiddleSchool</td>\n",
       "      <td>G-08</td>\n",
       "      <td>A</td>\n",
       "      <td>Chemistry</td>\n",
       "      <td>T</td>\n",
       "      <td>Father</td>\n",
       "      <td>5</td>\n",
       "      <td>4</td>\n",
       "      <td>5</td>\n",
       "      <td>8</td>\n",
       "      <td>No</td>\n",
       "      <td>Bad</td>\n",
       "      <td>Above-7</td>\n",
       "      <td>L</td>\n",
       "    </tr>\n",
       "    <tr>\n",
       "      <th>476</th>\n",
       "      <td>F</td>\n",
       "      <td>Jordan</td>\n",
       "      <td>Jordan</td>\n",
       "      <td>MiddleSchool</td>\n",
       "      <td>G-08</td>\n",
       "      <td>A</td>\n",
       "      <td>Geology</td>\n",
       "      <td>F</td>\n",
       "      <td>Father</td>\n",
       "      <td>50</td>\n",
       "      <td>77</td>\n",
       "      <td>14</td>\n",
       "      <td>28</td>\n",
       "      <td>No</td>\n",
       "      <td>Bad</td>\n",
       "      <td>Under-7</td>\n",
       "      <td>M</td>\n",
       "    </tr>\n",
       "    <tr>\n",
       "      <th>477</th>\n",
       "      <td>F</td>\n",
       "      <td>Jordan</td>\n",
       "      <td>Jordan</td>\n",
       "      <td>MiddleSchool</td>\n",
       "      <td>G-08</td>\n",
       "      <td>A</td>\n",
       "      <td>Geology</td>\n",
       "      <td>S</td>\n",
       "      <td>Father</td>\n",
       "      <td>55</td>\n",
       "      <td>74</td>\n",
       "      <td>25</td>\n",
       "      <td>29</td>\n",
       "      <td>No</td>\n",
       "      <td>Bad</td>\n",
       "      <td>Under-7</td>\n",
       "      <td>M</td>\n",
       "    </tr>\n",
       "    <tr>\n",
       "      <th>478</th>\n",
       "      <td>F</td>\n",
       "      <td>Jordan</td>\n",
       "      <td>Jordan</td>\n",
       "      <td>MiddleSchool</td>\n",
       "      <td>G-08</td>\n",
       "      <td>A</td>\n",
       "      <td>History</td>\n",
       "      <td>F</td>\n",
       "      <td>Father</td>\n",
       "      <td>30</td>\n",
       "      <td>17</td>\n",
       "      <td>14</td>\n",
       "      <td>57</td>\n",
       "      <td>No</td>\n",
       "      <td>Bad</td>\n",
       "      <td>Above-7</td>\n",
       "      <td>L</td>\n",
       "    </tr>\n",
       "    <tr>\n",
       "      <th>479</th>\n",
       "      <td>F</td>\n",
       "      <td>Jordan</td>\n",
       "      <td>Jordan</td>\n",
       "      <td>MiddleSchool</td>\n",
       "      <td>G-08</td>\n",
       "      <td>A</td>\n",
       "      <td>History</td>\n",
       "      <td>S</td>\n",
       "      <td>Father</td>\n",
       "      <td>35</td>\n",
       "      <td>14</td>\n",
       "      <td>23</td>\n",
       "      <td>62</td>\n",
       "      <td>No</td>\n",
       "      <td>Bad</td>\n",
       "      <td>Above-7</td>\n",
       "      <td>L</td>\n",
       "    </tr>\n",
       "  </tbody>\n",
       "</table>\n",
       "<p>480 rows × 17 columns</p>\n",
       "</div>"
      ],
      "text/plain": [
       "    gender NationalITy PlaceofBirth       StageID GradeID SectionID  \\\n",
       "0        M          KW       KuwaIT    lowerlevel    G-04         A   \n",
       "1        M          KW       KuwaIT    lowerlevel    G-04         A   \n",
       "2        M          KW       KuwaIT    lowerlevel    G-04         A   \n",
       "3        M          KW       KuwaIT    lowerlevel    G-04         A   \n",
       "4        M          KW       KuwaIT    lowerlevel    G-04         A   \n",
       "..     ...         ...          ...           ...     ...       ...   \n",
       "475      F      Jordan       Jordan  MiddleSchool    G-08         A   \n",
       "476      F      Jordan       Jordan  MiddleSchool    G-08         A   \n",
       "477      F      Jordan       Jordan  MiddleSchool    G-08         A   \n",
       "478      F      Jordan       Jordan  MiddleSchool    G-08         A   \n",
       "479      F      Jordan       Jordan  MiddleSchool    G-08         A   \n",
       "\n",
       "         Topic Semester Relation raisedhands  VisITedResources  \\\n",
       "0           IT        F   Father          15                16   \n",
       "1           IT        F   Father          20                20   \n",
       "2           IT        F   Father          10                 7   \n",
       "3           IT        F   Father          30                25   \n",
       "4           IT        F   Father          40                50   \n",
       "..         ...      ...      ...         ...               ...   \n",
       "475  Chemistry        T   Father           5                 4   \n",
       "476    Geology        F   Father          50                77   \n",
       "477    Geology        S   Father          55                74   \n",
       "478    History        F   Father          30                17   \n",
       "479    History        S   Father          35                14   \n",
       "\n",
       "     AnnouncementsView  Discussion ParentAnsweringSurvey  \\\n",
       "0                    2          20                   Yes   \n",
       "1                    3          25                   Yes   \n",
       "2                    0          30                    No   \n",
       "3                    5          35                    No   \n",
       "4                   12          50                    No   \n",
       "..                 ...         ...                   ...   \n",
       "475                  5           8                    No   \n",
       "476                 14          28                    No   \n",
       "477                 25          29                    No   \n",
       "478                 14          57                    No   \n",
       "479                 23          62                    No   \n",
       "\n",
       "    ParentschoolSatisfaction StudentAbsenceDays Class  \n",
       "0                       Good            Under-7     M  \n",
       "1                       Good            Under-7     M  \n",
       "2                        Bad            Above-7     L  \n",
       "3                        Bad            Above-7     L  \n",
       "4                        Bad            Above-7     M  \n",
       "..                       ...                ...   ...  \n",
       "475                      Bad            Above-7     L  \n",
       "476                      Bad            Under-7     M  \n",
       "477                      Bad            Under-7     M  \n",
       "478                      Bad            Above-7     L  \n",
       "479                      Bad            Above-7     L  \n",
       "\n",
       "[480 rows x 17 columns]"
      ]
     },
     "execution_count": 3,
     "metadata": {},
     "output_type": "execute_result"
    }
   ],
   "source": [
    "new"
   ]
  },
  {
   "cell_type": "markdown",
   "id": "7f0a976e",
   "metadata": {},
   "source": [
    "## Calculating mode of the column 'Topic'"
   ]
  },
  {
   "cell_type": "code",
   "execution_count": 4,
   "id": "a5dd61d9",
   "metadata": {
    "scrolled": true
   },
   "outputs": [
    {
     "data": {
      "text/plain": [
       "0    IT\n",
       "Name: Topic, dtype: object"
      ]
     },
     "execution_count": 4,
     "metadata": {},
     "output_type": "execute_result"
    }
   ],
   "source": [
    "new['Topic'].mode()"
   ]
  },
  {
   "cell_type": "code",
   "execution_count": 5,
   "id": "c90f6054",
   "metadata": {},
   "outputs": [
    {
     "data": {
      "text/plain": [
       "0"
      ]
     },
     "execution_count": 5,
     "metadata": {},
     "output_type": "execute_result"
    }
   ],
   "source": [
    "new['Topic'].isna().sum()"
   ]
  },
  {
   "cell_type": "markdown",
   "id": "f3e248de",
   "metadata": {},
   "source": [
    "## Replacing '?' with null values"
   ]
  },
  {
   "cell_type": "code",
   "execution_count": 6,
   "id": "4df3d2cc",
   "metadata": {},
   "outputs": [],
   "source": [
    "new.replace(\"?\", (np.nan),inplace=True)"
   ]
  },
  {
   "cell_type": "code",
   "execution_count": 7,
   "id": "7b1a1e98",
   "metadata": {},
   "outputs": [
    {
     "data": {
      "text/plain": [
       "2"
      ]
     },
     "execution_count": 7,
     "metadata": {},
     "output_type": "execute_result"
    }
   ],
   "source": [
    "new['Topic'].isna().sum()"
   ]
  },
  {
   "cell_type": "markdown",
   "id": "5d5024da",
   "metadata": {},
   "source": [
    "## Replacing null values in the column 'Topic' with mode"
   ]
  },
  {
   "cell_type": "code",
   "execution_count": 8,
   "id": "cdda7ee4",
   "metadata": {},
   "outputs": [],
   "source": [
    "new[\"Topic\"].replace(np.nan, 'IT',inplace=True)"
   ]
  },
  {
   "cell_type": "code",
   "execution_count": 9,
   "id": "2d55d6bf",
   "metadata": {},
   "outputs": [
    {
     "data": {
      "text/plain": [
       "0"
      ]
     },
     "execution_count": 9,
     "metadata": {},
     "output_type": "execute_result"
    }
   ],
   "source": [
    "new['Topic'].isna().sum()"
   ]
  },
  {
   "cell_type": "code",
   "execution_count": 10,
   "id": "f338a2bd",
   "metadata": {},
   "outputs": [
    {
     "data": {
      "text/plain": [
       "8"
      ]
     },
     "execution_count": 10,
     "metadata": {},
     "output_type": "execute_result"
    }
   ],
   "source": [
    "new['Relation'].isna().sum()"
   ]
  },
  {
   "cell_type": "markdown",
   "id": "2d33ddd1",
   "metadata": {},
   "source": [
    "## Dropping the rows with row_value==null in the column 'Relation'"
   ]
  },
  {
   "cell_type": "code",
   "execution_count": 11,
   "id": "35eca2ab",
   "metadata": {},
   "outputs": [],
   "source": [
    "new.dropna(subset = [\"Relation\"], axis = 0, inplace = True)"
   ]
  },
  {
   "cell_type": "code",
   "execution_count": 12,
   "id": "dd43b9be",
   "metadata": {},
   "outputs": [
    {
     "data": {
      "text/plain": [
       "0"
      ]
     },
     "execution_count": 12,
     "metadata": {},
     "output_type": "execute_result"
    }
   ],
   "source": [
    "new['Relation'].isna().sum()"
   ]
  },
  {
   "cell_type": "code",
   "execution_count": 13,
   "id": "c5ce790a",
   "metadata": {
    "scrolled": true
   },
   "outputs": [
    {
     "data": {
      "text/plain": [
       "2"
      ]
     },
     "execution_count": 13,
     "metadata": {},
     "output_type": "execute_result"
    }
   ],
   "source": [
    "new['GradeID'].isna().sum()"
   ]
  },
  {
   "cell_type": "markdown",
   "id": "d933e91e",
   "metadata": {},
   "source": [
    "## Dropping the rows with row_value==null in the column 'GradeID'"
   ]
  },
  {
   "cell_type": "code",
   "execution_count": 14,
   "id": "6774ce36",
   "metadata": {},
   "outputs": [],
   "source": [
    "new.dropna(subset = [\"GradeID\"], axis = 0, inplace = True)"
   ]
  },
  {
   "cell_type": "code",
   "execution_count": 15,
   "id": "578deaa8",
   "metadata": {},
   "outputs": [
    {
     "data": {
      "text/plain": [
       "0"
      ]
     },
     "execution_count": 15,
     "metadata": {},
     "output_type": "execute_result"
    }
   ],
   "source": [
    "new['GradeID'].isna().sum()"
   ]
  },
  {
   "cell_type": "code",
   "execution_count": 16,
   "id": "52d90c2a",
   "metadata": {},
   "outputs": [
    {
     "data": {
      "text/plain": [
       "count     468\n",
       "unique     82\n",
       "top        10\n",
       "freq       29\n",
       "Name: raisedhands, dtype: object"
      ]
     },
     "execution_count": 16,
     "metadata": {},
     "output_type": "execute_result"
    }
   ],
   "source": [
    "new['raisedhands'].describe()"
   ]
  },
  {
   "cell_type": "code",
   "execution_count": 17,
   "id": "53872bc1",
   "metadata": {},
   "outputs": [],
   "source": [
    "mean_hands=new['raisedhands'].astype('float').mean()\n",
    "## mean of the values in the column 'raisedhands'"
   ]
  },
  {
   "cell_type": "code",
   "execution_count": 18,
   "id": "9725dbac",
   "metadata": {},
   "outputs": [
    {
     "data": {
      "text/plain": [
       "46.83119658119658"
      ]
     },
     "execution_count": 18,
     "metadata": {},
     "output_type": "execute_result"
    }
   ],
   "source": [
    "mean_hands"
   ]
  },
  {
   "cell_type": "code",
   "execution_count": 19,
   "id": "d374d3f1",
   "metadata": {},
   "outputs": [],
   "source": [
    "new[\"raisedhands\"].replace(np.nan, 46.8311,inplace=True)\n",
    "## replacing null values with mean"
   ]
  },
  {
   "cell_type": "markdown",
   "id": "4831ba08",
   "metadata": {},
   "source": [
    "# Function to detect outliers in data"
   ]
  },
  {
   "cell_type": "code",
   "execution_count": 20,
   "id": "2fd48ff3",
   "metadata": {},
   "outputs": [],
   "source": [
    "def find_outliers_IQR(new):\n",
    "\n",
    "   q1=new.quantile(0.25)\n",
    "\n",
    "   q3=new.quantile(0.75)\n",
    "\n",
    "   IQR=q3-q1\n",
    "\n",
    "   outliers = new[((new<(q1-1.5*IQR)) | (new>(q3+1.5*IQR)))]\n",
    "\n",
    "   return outliers"
   ]
  },
  {
   "cell_type": "code",
   "execution_count": 21,
   "id": "90ef5304",
   "metadata": {},
   "outputs": [
    {
     "data": {
      "text/plain": [
       "gender                      object\n",
       "NationalITy                 object\n",
       "PlaceofBirth                object\n",
       "StageID                     object\n",
       "GradeID                     object\n",
       "SectionID                   object\n",
       "Topic                       object\n",
       "Semester                    object\n",
       "Relation                    object\n",
       "raisedhands                 object\n",
       "VisITedResources             int64\n",
       "AnnouncementsView            int64\n",
       "Discussion                   int64\n",
       "ParentAnsweringSurvey       object\n",
       "ParentschoolSatisfaction    object\n",
       "StudentAbsenceDays          object\n",
       "Class                       object\n",
       "dtype: object"
      ]
     },
     "execution_count": 21,
     "metadata": {},
     "output_type": "execute_result"
    }
   ],
   "source": [
    "new.dtypes"
   ]
  },
  {
   "cell_type": "code",
   "execution_count": 22,
   "id": "d6716a39",
   "metadata": {},
   "outputs": [],
   "source": [
    "new[[\"raisedhands\"]] = new[[\"raisedhands\"]].astype(\"float\")"
   ]
  },
  {
   "cell_type": "code",
   "execution_count": 23,
   "id": "bc8febc2",
   "metadata": {},
   "outputs": [
    {
     "data": {
      "text/plain": [
       "gender                       object\n",
       "NationalITy                  object\n",
       "PlaceofBirth                 object\n",
       "StageID                      object\n",
       "GradeID                      object\n",
       "SectionID                    object\n",
       "Topic                        object\n",
       "Semester                     object\n",
       "Relation                     object\n",
       "raisedhands                 float64\n",
       "VisITedResources              int64\n",
       "AnnouncementsView             int64\n",
       "Discussion                    int64\n",
       "ParentAnsweringSurvey        object\n",
       "ParentschoolSatisfaction     object\n",
       "StudentAbsenceDays           object\n",
       "Class                        object\n",
       "dtype: object"
      ]
     },
     "execution_count": 23,
     "metadata": {},
     "output_type": "execute_result"
    }
   ],
   "source": [
    "new.dtypes"
   ]
  },
  {
   "cell_type": "markdown",
   "id": "c9351e10",
   "metadata": {},
   "source": [
    "## Detecting outliers in the variables"
   ]
  },
  {
   "cell_type": "code",
   "execution_count": 24,
   "id": "1eb0069e",
   "metadata": {},
   "outputs": [],
   "source": [
    "outliers = find_outliers_IQR(new['raisedhands'])"
   ]
  },
  {
   "cell_type": "code",
   "execution_count": 25,
   "id": "872a4fb0",
   "metadata": {},
   "outputs": [
    {
     "data": {
      "text/plain": [
       "Series([], Name: raisedhands, dtype: float64)"
      ]
     },
     "execution_count": 25,
     "metadata": {},
     "output_type": "execute_result"
    }
   ],
   "source": [
    "outliers"
   ]
  },
  {
   "cell_type": "code",
   "execution_count": 26,
   "id": "f2792371",
   "metadata": {},
   "outputs": [],
   "source": [
    "outliers_1=find_outliers_IQR(new['VisITedResources'])"
   ]
  },
  {
   "cell_type": "code",
   "execution_count": 27,
   "id": "1e5e19f2",
   "metadata": {},
   "outputs": [
    {
     "data": {
      "text/plain": [
       "Series([], Name: VisITedResources, dtype: int64)"
      ]
     },
     "execution_count": 27,
     "metadata": {},
     "output_type": "execute_result"
    }
   ],
   "source": [
    "outliers_1"
   ]
  },
  {
   "cell_type": "code",
   "execution_count": 28,
   "id": "90df08d8",
   "metadata": {},
   "outputs": [
    {
     "data": {
      "text/plain": [
       "Series([], Name: AnnouncementsView, dtype: int64)"
      ]
     },
     "execution_count": 28,
     "metadata": {},
     "output_type": "execute_result"
    }
   ],
   "source": [
    "outliers_2=find_outliers_IQR(new['AnnouncementsView'])\n",
    "outliers_2"
   ]
  },
  {
   "cell_type": "code",
   "execution_count": 29,
   "id": "48145a74",
   "metadata": {},
   "outputs": [
    {
     "data": {
      "text/plain": [
       "Series([], Name: Discussion, dtype: int64)"
      ]
     },
     "execution_count": 29,
     "metadata": {},
     "output_type": "execute_result"
    }
   ],
   "source": [
    "outliers_3=find_outliers_IQR(new['Discussion'])\n",
    "outliers_3"
   ]
  },
  {
   "cell_type": "code",
   "execution_count": 30,
   "id": "537e715c",
   "metadata": {},
   "outputs": [
    {
     "data": {
      "text/plain": [
       "F    240\n",
       "S    228\n",
       "T      2\n",
       "Name: Semester, dtype: int64"
      ]
     },
     "execution_count": 30,
     "metadata": {},
     "output_type": "execute_result"
    }
   ],
   "source": [
    "new['Semester'].value_counts()\n",
    "## Detecting outliers in the column 'Semester'"
   ]
  },
  {
   "cell_type": "code",
   "execution_count": 31,
   "id": "ecb632b2",
   "metadata": {
    "scrolled": true
   },
   "outputs": [],
   "source": [
    "new[[\"Semester\"]] = new[[\"Semester\"]].astype(\"string\")"
   ]
  },
  {
   "cell_type": "code",
   "execution_count": 32,
   "id": "b0a747f4",
   "metadata": {},
   "outputs": [],
   "source": [
    "new.drop(new.index[new['Semester'] == 'T'], inplace = True)\n",
    "## Removing the outliers by dropping the rows"
   ]
  },
  {
   "cell_type": "code",
   "execution_count": 33,
   "id": "32ce3b8a",
   "metadata": {},
   "outputs": [
    {
     "data": {
      "text/plain": [
       "F    240\n",
       "S    228\n",
       "Name: Semester, dtype: Int64"
      ]
     },
     "execution_count": 33,
     "metadata": {},
     "output_type": "execute_result"
    }
   ],
   "source": [
    "new['Semester'].value_counts()"
   ]
  },
  {
   "cell_type": "markdown",
   "id": "5984451c",
   "metadata": {},
   "source": [
    "## Dropping the column 'ParentAnsweringSurvey'"
   ]
  },
  {
   "cell_type": "code",
   "execution_count": 34,
   "id": "defcf80b",
   "metadata": {},
   "outputs": [],
   "source": [
    "new.drop(['ParentAnsweringSurvey'], axis=1,inplace=True)"
   ]
  },
  {
   "cell_type": "code",
   "execution_count": 35,
   "id": "99ac6356",
   "metadata": {},
   "outputs": [
    {
     "data": {
      "text/plain": [
       "gender                       object\n",
       "NationalITy                  object\n",
       "PlaceofBirth                 object\n",
       "StageID                      object\n",
       "GradeID                      object\n",
       "SectionID                    object\n",
       "Topic                        object\n",
       "Semester                     string\n",
       "Relation                     object\n",
       "raisedhands                 float64\n",
       "VisITedResources              int64\n",
       "AnnouncementsView             int64\n",
       "Discussion                    int64\n",
       "ParentschoolSatisfaction     object\n",
       "StudentAbsenceDays           object\n",
       "Class                        object\n",
       "dtype: object"
      ]
     },
     "execution_count": 35,
     "metadata": {},
     "output_type": "execute_result"
    }
   ],
   "source": [
    "new.dtypes"
   ]
  },
  {
   "cell_type": "markdown",
   "id": "934bddd4",
   "metadata": {},
   "source": [
    "## Normalising all values in the columns 'raisedhands' & 'VisITedResources'"
   ]
  },
  {
   "cell_type": "code",
   "execution_count": 36,
   "id": "dffc6a44",
   "metadata": {},
   "outputs": [],
   "source": [
    "new['raisedhands']=new['raisedhands'].astype('float')-new['raisedhands'].astype('float').mean()/(new['raisedhands'].astype('float').max()-new['raisedhands'].astype('float').min())\n"
   ]
  },
  {
   "cell_type": "code",
   "execution_count": 37,
   "id": "af3c52e7",
   "metadata": {},
   "outputs": [],
   "source": [
    "new['VisITedResources']=new['VisITedResources'].astype('float')-new['VisITedResources'].astype('float').mean()/(new['raisedhands'].astype('float').max()-new['raisedhands'].astype('float').min())"
   ]
  },
  {
   "cell_type": "code",
   "execution_count": 38,
   "id": "15780d4d",
   "metadata": {},
   "outputs": [
    {
     "data": {
      "text/plain": [
       "0      16.0\n",
       "1      20.0\n",
       "2       7.0\n",
       "3      25.0\n",
       "4      50.0\n",
       "       ... \n",
       "474     7.0\n",
       "476    77.0\n",
       "477    74.0\n",
       "478    17.0\n",
       "479    14.0\n",
       "Name: VisITedResources, Length: 468, dtype: float64"
      ]
     },
     "execution_count": 38,
     "metadata": {},
     "output_type": "execute_result"
    }
   ],
   "source": [
    "new['VisITedResources'].apply(np.ceil)"
   ]
  },
  {
   "cell_type": "code",
   "execution_count": 39,
   "id": "e3999c4b",
   "metadata": {},
   "outputs": [
    {
     "data": {
      "text/html": [
       "<div>\n",
       "<style scoped>\n",
       "    .dataframe tbody tr th:only-of-type {\n",
       "        vertical-align: middle;\n",
       "    }\n",
       "\n",
       "    .dataframe tbody tr th {\n",
       "        vertical-align: top;\n",
       "    }\n",
       "\n",
       "    .dataframe thead th {\n",
       "        text-align: right;\n",
       "    }\n",
       "</style>\n",
       "<table border=\"1\" class=\"dataframe\">\n",
       "  <thead>\n",
       "    <tr style=\"text-align: right;\">\n",
       "      <th></th>\n",
       "      <th>raisedhands</th>\n",
       "      <th>VisITedResources</th>\n",
       "    </tr>\n",
       "  </thead>\n",
       "  <tbody>\n",
       "    <tr>\n",
       "      <th>0</th>\n",
       "      <td>14.531396</td>\n",
       "      <td>15.454209</td>\n",
       "    </tr>\n",
       "    <tr>\n",
       "      <th>1</th>\n",
       "      <td>19.531396</td>\n",
       "      <td>19.454209</td>\n",
       "    </tr>\n",
       "    <tr>\n",
       "      <th>2</th>\n",
       "      <td>9.531396</td>\n",
       "      <td>6.454209</td>\n",
       "    </tr>\n",
       "    <tr>\n",
       "      <th>3</th>\n",
       "      <td>29.531396</td>\n",
       "      <td>24.454209</td>\n",
       "    </tr>\n",
       "    <tr>\n",
       "      <th>4</th>\n",
       "      <td>39.531396</td>\n",
       "      <td>49.454209</td>\n",
       "    </tr>\n",
       "    <tr>\n",
       "      <th>5</th>\n",
       "      <td>41.531396</td>\n",
       "      <td>29.454209</td>\n",
       "    </tr>\n",
       "    <tr>\n",
       "      <th>6</th>\n",
       "      <td>34.531396</td>\n",
       "      <td>11.454209</td>\n",
       "    </tr>\n",
       "    <tr>\n",
       "      <th>7</th>\n",
       "      <td>49.531396</td>\n",
       "      <td>9.454209</td>\n",
       "    </tr>\n",
       "    <tr>\n",
       "      <th>8</th>\n",
       "      <td>11.531396</td>\n",
       "      <td>20.454209</td>\n",
       "    </tr>\n",
       "    <tr>\n",
       "      <th>9</th>\n",
       "      <td>69.531396</td>\n",
       "      <td>79.454209</td>\n",
       "    </tr>\n",
       "  </tbody>\n",
       "</table>\n",
       "</div>"
      ],
      "text/plain": [
       "   raisedhands  VisITedResources\n",
       "0    14.531396         15.454209\n",
       "1    19.531396         19.454209\n",
       "2     9.531396          6.454209\n",
       "3    29.531396         24.454209\n",
       "4    39.531396         49.454209\n",
       "5    41.531396         29.454209\n",
       "6    34.531396         11.454209\n",
       "7    49.531396          9.454209\n",
       "8    11.531396         20.454209\n",
       "9    69.531396         79.454209"
      ]
     },
     "execution_count": 39,
     "metadata": {},
     "output_type": "execute_result"
    }
   ],
   "source": [
    "new[['raisedhands','VisITedResources']].head(10)"
   ]
  },
  {
   "cell_type": "code",
   "execution_count": 40,
   "id": "09745b9e",
   "metadata": {},
   "outputs": [
    {
     "data": {
      "text/plain": [
       "G-02    142\n",
       "G-08    115\n",
       "G-07     98\n",
       "G-04     48\n",
       "G-06     31\n",
       "G-11     13\n",
       "G-12      9\n",
       "G-09      5\n",
       "G-10      4\n",
       "G-05      3\n",
       "Name: GradeID, dtype: int64"
      ]
     },
     "execution_count": 40,
     "metadata": {},
     "output_type": "execute_result"
    }
   ],
   "source": [
    "new['GradeID'].value_counts()"
   ]
  },
  {
   "cell_type": "markdown",
   "id": "79517955",
   "metadata": {},
   "source": [
    "### Transformation of the column GradeID"
   ]
  },
  {
   "cell_type": "code",
   "execution_count": 41,
   "id": "c87799e6",
   "metadata": {},
   "outputs": [],
   "source": [
    "new.GradeID.replace({\"id-02\":1, \"id-04\":2, \"id-05\":3,\"id-06\":4,\"id-07\":5,\"id-08\":6,\"id-09\":7,\"id-10\":8,\"id-11\":9,\"id-12\":10},inplace=True)"
   ]
  },
  {
   "cell_type": "code",
   "execution_count": 42,
   "id": "8c30eae4",
   "metadata": {},
   "outputs": [
    {
     "data": {
      "text/plain": [
       "0      G-04\n",
       "1      G-04\n",
       "2      G-04\n",
       "3      G-04\n",
       "4      G-04\n",
       "       ... \n",
       "474    G-08\n",
       "476    G-08\n",
       "477    G-08\n",
       "478    G-08\n",
       "479    G-08\n",
       "Name: GradeID, Length: 468, dtype: object"
      ]
     },
     "execution_count": 42,
     "metadata": {},
     "output_type": "execute_result"
    }
   ],
   "source": [
    "new['GradeID']"
   ]
  },
  {
   "cell_type": "code",
   "execution_count": 43,
   "id": "727a2f60",
   "metadata": {},
   "outputs": [
    {
     "data": {
      "text/plain": [
       "Under-7    282\n",
       "Above-7    186\n",
       "Name: StudentAbsenceDays, dtype: int64"
      ]
     },
     "execution_count": 43,
     "metadata": {},
     "output_type": "execute_result"
    }
   ],
   "source": [
    "new['StudentAbsenceDays'].value_counts()"
   ]
  },
  {
   "cell_type": "markdown",
   "id": "f4057f32",
   "metadata": {},
   "source": [
    "### Transformation of the column StudentAbsenceDays"
   ]
  },
  {
   "cell_type": "code",
   "execution_count": 44,
   "id": "da1009e0",
   "metadata": {},
   "outputs": [
    {
     "data": {
      "text/plain": [
       "0    282\n",
       "1    186\n",
       "Name: StudentAbsenceDays, dtype: int64"
      ]
     },
     "execution_count": 44,
     "metadata": {},
     "output_type": "execute_result"
    }
   ],
   "source": [
    "new.StudentAbsenceDays.replace({\"Under-7\":0,\"Above-7\":1},inplace=True)\n",
    "new['StudentAbsenceDays'].value_counts()"
   ]
  },
  {
   "cell_type": "markdown",
   "id": "d954111a",
   "metadata": {},
   "source": [
    "# Binning"
   ]
  },
  {
   "cell_type": "code",
   "execution_count": 45,
   "id": "2aeb8b7c",
   "metadata": {
    "scrolled": true
   },
   "outputs": [
    {
     "data": {
      "text/plain": [
       "70    23\n",
       "40    22\n",
       "33    20\n",
       "50    18\n",
       "30    16\n",
       "      ..\n",
       "95     1\n",
       "65     1\n",
       "76     1\n",
       "73     1\n",
       "62     1\n",
       "Name: Discussion, Length: 90, dtype: int64"
      ]
     },
     "execution_count": 45,
     "metadata": {},
     "output_type": "execute_result"
    }
   ],
   "source": [
    "new['Discussion'].value_counts()"
   ]
  },
  {
   "cell_type": "code",
   "execution_count": 46,
   "id": "20aa1a5e",
   "metadata": {},
   "outputs": [
    {
     "name": "stdout",
     "output_type": "stream",
     "text": [
      "1\n",
      "99\n"
     ]
    }
   ],
   "source": [
    "min_val=new['Discussion'].min()\n",
    "max_val=new['Discussion'].max()\n",
    "print(min_val)\n",
    "print(max_val)"
   ]
  },
  {
   "cell_type": "code",
   "execution_count": 47,
   "id": "5b2903d5",
   "metadata": {},
   "outputs": [
    {
     "data": {
      "text/plain": [
       "array([ 1.        , 33.66666667, 66.33333333, 99.        ])"
      ]
     },
     "execution_count": 47,
     "metadata": {},
     "output_type": "execute_result"
    }
   ],
   "source": [
    "bins=np.linspace(min_val,max_val,4)\n",
    "bins"
   ]
  },
  {
   "cell_type": "code",
   "execution_count": 48,
   "id": "117a16fc",
   "metadata": {},
   "outputs": [],
   "source": [
    "labels=['small','medium','big']"
   ]
  },
  {
   "cell_type": "code",
   "execution_count": 49,
   "id": "2763c5a7",
   "metadata": {},
   "outputs": [],
   "source": [
    "new['bins']=pd.cut(new['Discussion'],bins=bins,labels=labels,include_lowest=True)"
   ]
  },
  {
   "cell_type": "code",
   "execution_count": 50,
   "id": "cb9a2c76",
   "metadata": {},
   "outputs": [
    {
     "data": {
      "text/plain": [
       "small     215\n",
       "medium    127\n",
       "big       126\n",
       "Name: bins, dtype: int64"
      ]
     },
     "execution_count": 50,
     "metadata": {},
     "output_type": "execute_result"
    }
   ],
   "source": [
    "new['bins'].value_counts()"
   ]
  },
  {
   "cell_type": "code",
   "execution_count": 51,
   "id": "87ccde9a",
   "metadata": {},
   "outputs": [
    {
     "data": {
      "text/html": [
       "<div>\n",
       "<style scoped>\n",
       "    .dataframe tbody tr th:only-of-type {\n",
       "        vertical-align: middle;\n",
       "    }\n",
       "\n",
       "    .dataframe tbody tr th {\n",
       "        vertical-align: top;\n",
       "    }\n",
       "\n",
       "    .dataframe thead th {\n",
       "        text-align: right;\n",
       "    }\n",
       "</style>\n",
       "<table border=\"1\" class=\"dataframe\">\n",
       "  <thead>\n",
       "    <tr style=\"text-align: right;\">\n",
       "      <th></th>\n",
       "      <th>gender</th>\n",
       "      <th>NationalITy</th>\n",
       "      <th>PlaceofBirth</th>\n",
       "      <th>StageID</th>\n",
       "      <th>GradeID</th>\n",
       "      <th>SectionID</th>\n",
       "      <th>Topic</th>\n",
       "      <th>Semester</th>\n",
       "      <th>Relation</th>\n",
       "      <th>raisedhands</th>\n",
       "      <th>VisITedResources</th>\n",
       "      <th>AnnouncementsView</th>\n",
       "      <th>Discussion</th>\n",
       "      <th>ParentschoolSatisfaction</th>\n",
       "      <th>StudentAbsenceDays</th>\n",
       "      <th>Class</th>\n",
       "      <th>bins</th>\n",
       "    </tr>\n",
       "  </thead>\n",
       "  <tbody>\n",
       "    <tr>\n",
       "      <th>0</th>\n",
       "      <td>M</td>\n",
       "      <td>KW</td>\n",
       "      <td>KuwaIT</td>\n",
       "      <td>lowerlevel</td>\n",
       "      <td>G-04</td>\n",
       "      <td>A</td>\n",
       "      <td>IT</td>\n",
       "      <td>F</td>\n",
       "      <td>Father</td>\n",
       "      <td>14.531396</td>\n",
       "      <td>15.454209</td>\n",
       "      <td>2</td>\n",
       "      <td>20</td>\n",
       "      <td>Good</td>\n",
       "      <td>0</td>\n",
       "      <td>M</td>\n",
       "      <td>small</td>\n",
       "    </tr>\n",
       "    <tr>\n",
       "      <th>1</th>\n",
       "      <td>M</td>\n",
       "      <td>KW</td>\n",
       "      <td>KuwaIT</td>\n",
       "      <td>lowerlevel</td>\n",
       "      <td>G-04</td>\n",
       "      <td>A</td>\n",
       "      <td>IT</td>\n",
       "      <td>F</td>\n",
       "      <td>Father</td>\n",
       "      <td>19.531396</td>\n",
       "      <td>19.454209</td>\n",
       "      <td>3</td>\n",
       "      <td>25</td>\n",
       "      <td>Good</td>\n",
       "      <td>0</td>\n",
       "      <td>M</td>\n",
       "      <td>small</td>\n",
       "    </tr>\n",
       "    <tr>\n",
       "      <th>2</th>\n",
       "      <td>M</td>\n",
       "      <td>KW</td>\n",
       "      <td>KuwaIT</td>\n",
       "      <td>lowerlevel</td>\n",
       "      <td>G-04</td>\n",
       "      <td>A</td>\n",
       "      <td>IT</td>\n",
       "      <td>F</td>\n",
       "      <td>Father</td>\n",
       "      <td>9.531396</td>\n",
       "      <td>6.454209</td>\n",
       "      <td>0</td>\n",
       "      <td>30</td>\n",
       "      <td>Bad</td>\n",
       "      <td>1</td>\n",
       "      <td>L</td>\n",
       "      <td>small</td>\n",
       "    </tr>\n",
       "    <tr>\n",
       "      <th>3</th>\n",
       "      <td>M</td>\n",
       "      <td>KW</td>\n",
       "      <td>KuwaIT</td>\n",
       "      <td>lowerlevel</td>\n",
       "      <td>G-04</td>\n",
       "      <td>A</td>\n",
       "      <td>IT</td>\n",
       "      <td>F</td>\n",
       "      <td>Father</td>\n",
       "      <td>29.531396</td>\n",
       "      <td>24.454209</td>\n",
       "      <td>5</td>\n",
       "      <td>35</td>\n",
       "      <td>Bad</td>\n",
       "      <td>1</td>\n",
       "      <td>L</td>\n",
       "      <td>medium</td>\n",
       "    </tr>\n",
       "    <tr>\n",
       "      <th>4</th>\n",
       "      <td>M</td>\n",
       "      <td>KW</td>\n",
       "      <td>KuwaIT</td>\n",
       "      <td>lowerlevel</td>\n",
       "      <td>G-04</td>\n",
       "      <td>A</td>\n",
       "      <td>IT</td>\n",
       "      <td>F</td>\n",
       "      <td>Father</td>\n",
       "      <td>39.531396</td>\n",
       "      <td>49.454209</td>\n",
       "      <td>12</td>\n",
       "      <td>50</td>\n",
       "      <td>Bad</td>\n",
       "      <td>1</td>\n",
       "      <td>M</td>\n",
       "      <td>medium</td>\n",
       "    </tr>\n",
       "  </tbody>\n",
       "</table>\n",
       "</div>"
      ],
      "text/plain": [
       "  gender NationalITy PlaceofBirth     StageID GradeID SectionID Topic  \\\n",
       "0      M          KW       KuwaIT  lowerlevel    G-04         A    IT   \n",
       "1      M          KW       KuwaIT  lowerlevel    G-04         A    IT   \n",
       "2      M          KW       KuwaIT  lowerlevel    G-04         A    IT   \n",
       "3      M          KW       KuwaIT  lowerlevel    G-04         A    IT   \n",
       "4      M          KW       KuwaIT  lowerlevel    G-04         A    IT   \n",
       "\n",
       "  Semester Relation  raisedhands  VisITedResources  AnnouncementsView  \\\n",
       "0        F   Father    14.531396         15.454209                  2   \n",
       "1        F   Father    19.531396         19.454209                  3   \n",
       "2        F   Father     9.531396          6.454209                  0   \n",
       "3        F   Father    29.531396         24.454209                  5   \n",
       "4        F   Father    39.531396         49.454209                 12   \n",
       "\n",
       "   Discussion ParentschoolSatisfaction  StudentAbsenceDays Class    bins  \n",
       "0          20                     Good                   0     M   small  \n",
       "1          25                     Good                   0     M   small  \n",
       "2          30                      Bad                   1     L   small  \n",
       "3          35                      Bad                   1     L  medium  \n",
       "4          50                      Bad                   1     M  medium  "
      ]
     },
     "execution_count": 51,
     "metadata": {},
     "output_type": "execute_result"
    }
   ],
   "source": [
    "new.head()"
   ]
  },
  {
   "cell_type": "code",
   "execution_count": 52,
   "id": "6910cccc",
   "metadata": {},
   "outputs": [],
   "source": [
    "new.to_csv('output_II.csv')"
   ]
  },
  {
   "cell_type": "code",
   "execution_count": 53,
   "id": "e0da0438",
   "metadata": {},
   "outputs": [
    {
     "data": {
      "text/html": [
       "<div>\n",
       "<style scoped>\n",
       "    .dataframe tbody tr th:only-of-type {\n",
       "        vertical-align: middle;\n",
       "    }\n",
       "\n",
       "    .dataframe tbody tr th {\n",
       "        vertical-align: top;\n",
       "    }\n",
       "\n",
       "    .dataframe thead th {\n",
       "        text-align: right;\n",
       "    }\n",
       "</style>\n",
       "<table border=\"1\" class=\"dataframe\">\n",
       "  <thead>\n",
       "    <tr style=\"text-align: right;\">\n",
       "      <th></th>\n",
       "      <th>Unnamed: 0</th>\n",
       "      <th>gender</th>\n",
       "      <th>NationalITy</th>\n",
       "      <th>PlaceofBirth</th>\n",
       "      <th>StageID</th>\n",
       "      <th>GradeID</th>\n",
       "      <th>SectionID</th>\n",
       "      <th>Topic</th>\n",
       "      <th>Semester</th>\n",
       "      <th>Relation</th>\n",
       "      <th>raisedhands</th>\n",
       "      <th>VisITedResources</th>\n",
       "      <th>AnnouncementsView</th>\n",
       "      <th>Discussion</th>\n",
       "      <th>ParentschoolSatisfaction</th>\n",
       "      <th>StudentAbsenceDays</th>\n",
       "      <th>Class</th>\n",
       "      <th>bins</th>\n",
       "    </tr>\n",
       "  </thead>\n",
       "  <tbody>\n",
       "    <tr>\n",
       "      <th>0</th>\n",
       "      <td>0</td>\n",
       "      <td>M</td>\n",
       "      <td>KW</td>\n",
       "      <td>KuwaIT</td>\n",
       "      <td>lowerlevel</td>\n",
       "      <td>G-04</td>\n",
       "      <td>A</td>\n",
       "      <td>IT</td>\n",
       "      <td>F</td>\n",
       "      <td>Father</td>\n",
       "      <td>14.531396</td>\n",
       "      <td>15.454209</td>\n",
       "      <td>2</td>\n",
       "      <td>20</td>\n",
       "      <td>Good</td>\n",
       "      <td>0</td>\n",
       "      <td>M</td>\n",
       "      <td>small</td>\n",
       "    </tr>\n",
       "    <tr>\n",
       "      <th>1</th>\n",
       "      <td>1</td>\n",
       "      <td>M</td>\n",
       "      <td>KW</td>\n",
       "      <td>KuwaIT</td>\n",
       "      <td>lowerlevel</td>\n",
       "      <td>G-04</td>\n",
       "      <td>A</td>\n",
       "      <td>IT</td>\n",
       "      <td>F</td>\n",
       "      <td>Father</td>\n",
       "      <td>19.531396</td>\n",
       "      <td>19.454209</td>\n",
       "      <td>3</td>\n",
       "      <td>25</td>\n",
       "      <td>Good</td>\n",
       "      <td>0</td>\n",
       "      <td>M</td>\n",
       "      <td>small</td>\n",
       "    </tr>\n",
       "    <tr>\n",
       "      <th>2</th>\n",
       "      <td>2</td>\n",
       "      <td>M</td>\n",
       "      <td>KW</td>\n",
       "      <td>KuwaIT</td>\n",
       "      <td>lowerlevel</td>\n",
       "      <td>G-04</td>\n",
       "      <td>A</td>\n",
       "      <td>IT</td>\n",
       "      <td>F</td>\n",
       "      <td>Father</td>\n",
       "      <td>9.531396</td>\n",
       "      <td>6.454209</td>\n",
       "      <td>0</td>\n",
       "      <td>30</td>\n",
       "      <td>Bad</td>\n",
       "      <td>1</td>\n",
       "      <td>L</td>\n",
       "      <td>small</td>\n",
       "    </tr>\n",
       "    <tr>\n",
       "      <th>3</th>\n",
       "      <td>3</td>\n",
       "      <td>M</td>\n",
       "      <td>KW</td>\n",
       "      <td>KuwaIT</td>\n",
       "      <td>lowerlevel</td>\n",
       "      <td>G-04</td>\n",
       "      <td>A</td>\n",
       "      <td>IT</td>\n",
       "      <td>F</td>\n",
       "      <td>Father</td>\n",
       "      <td>29.531396</td>\n",
       "      <td>24.454209</td>\n",
       "      <td>5</td>\n",
       "      <td>35</td>\n",
       "      <td>Bad</td>\n",
       "      <td>1</td>\n",
       "      <td>L</td>\n",
       "      <td>medium</td>\n",
       "    </tr>\n",
       "    <tr>\n",
       "      <th>4</th>\n",
       "      <td>4</td>\n",
       "      <td>M</td>\n",
       "      <td>KW</td>\n",
       "      <td>KuwaIT</td>\n",
       "      <td>lowerlevel</td>\n",
       "      <td>G-04</td>\n",
       "      <td>A</td>\n",
       "      <td>IT</td>\n",
       "      <td>F</td>\n",
       "      <td>Father</td>\n",
       "      <td>39.531396</td>\n",
       "      <td>49.454209</td>\n",
       "      <td>12</td>\n",
       "      <td>50</td>\n",
       "      <td>Bad</td>\n",
       "      <td>1</td>\n",
       "      <td>M</td>\n",
       "      <td>medium</td>\n",
       "    </tr>\n",
       "    <tr>\n",
       "      <th>...</th>\n",
       "      <td>...</td>\n",
       "      <td>...</td>\n",
       "      <td>...</td>\n",
       "      <td>...</td>\n",
       "      <td>...</td>\n",
       "      <td>...</td>\n",
       "      <td>...</td>\n",
       "      <td>...</td>\n",
       "      <td>...</td>\n",
       "      <td>...</td>\n",
       "      <td>...</td>\n",
       "      <td>...</td>\n",
       "      <td>...</td>\n",
       "      <td>...</td>\n",
       "      <td>...</td>\n",
       "      <td>...</td>\n",
       "      <td>...</td>\n",
       "      <td>...</td>\n",
       "    </tr>\n",
       "    <tr>\n",
       "      <th>463</th>\n",
       "      <td>474</td>\n",
       "      <td>F</td>\n",
       "      <td>Jordan</td>\n",
       "      <td>Jordan</td>\n",
       "      <td>MiddleSchool</td>\n",
       "      <td>G-08</td>\n",
       "      <td>A</td>\n",
       "      <td>Chemistry</td>\n",
       "      <td>F</td>\n",
       "      <td>Father</td>\n",
       "      <td>1.531396</td>\n",
       "      <td>6.454209</td>\n",
       "      <td>4</td>\n",
       "      <td>8</td>\n",
       "      <td>Bad</td>\n",
       "      <td>1</td>\n",
       "      <td>L</td>\n",
       "      <td>small</td>\n",
       "    </tr>\n",
       "    <tr>\n",
       "      <th>464</th>\n",
       "      <td>476</td>\n",
       "      <td>F</td>\n",
       "      <td>Jordan</td>\n",
       "      <td>Jordan</td>\n",
       "      <td>MiddleSchool</td>\n",
       "      <td>G-08</td>\n",
       "      <td>A</td>\n",
       "      <td>Geology</td>\n",
       "      <td>F</td>\n",
       "      <td>Father</td>\n",
       "      <td>49.531396</td>\n",
       "      <td>76.454209</td>\n",
       "      <td>14</td>\n",
       "      <td>28</td>\n",
       "      <td>Bad</td>\n",
       "      <td>0</td>\n",
       "      <td>M</td>\n",
       "      <td>small</td>\n",
       "    </tr>\n",
       "    <tr>\n",
       "      <th>465</th>\n",
       "      <td>477</td>\n",
       "      <td>F</td>\n",
       "      <td>Jordan</td>\n",
       "      <td>Jordan</td>\n",
       "      <td>MiddleSchool</td>\n",
       "      <td>G-08</td>\n",
       "      <td>A</td>\n",
       "      <td>Geology</td>\n",
       "      <td>S</td>\n",
       "      <td>Father</td>\n",
       "      <td>54.531396</td>\n",
       "      <td>73.454209</td>\n",
       "      <td>25</td>\n",
       "      <td>29</td>\n",
       "      <td>Bad</td>\n",
       "      <td>0</td>\n",
       "      <td>M</td>\n",
       "      <td>small</td>\n",
       "    </tr>\n",
       "    <tr>\n",
       "      <th>466</th>\n",
       "      <td>478</td>\n",
       "      <td>F</td>\n",
       "      <td>Jordan</td>\n",
       "      <td>Jordan</td>\n",
       "      <td>MiddleSchool</td>\n",
       "      <td>G-08</td>\n",
       "      <td>A</td>\n",
       "      <td>History</td>\n",
       "      <td>F</td>\n",
       "      <td>Father</td>\n",
       "      <td>29.531396</td>\n",
       "      <td>16.454209</td>\n",
       "      <td>14</td>\n",
       "      <td>57</td>\n",
       "      <td>Bad</td>\n",
       "      <td>1</td>\n",
       "      <td>L</td>\n",
       "      <td>medium</td>\n",
       "    </tr>\n",
       "    <tr>\n",
       "      <th>467</th>\n",
       "      <td>479</td>\n",
       "      <td>F</td>\n",
       "      <td>Jordan</td>\n",
       "      <td>Jordan</td>\n",
       "      <td>MiddleSchool</td>\n",
       "      <td>G-08</td>\n",
       "      <td>A</td>\n",
       "      <td>History</td>\n",
       "      <td>S</td>\n",
       "      <td>Father</td>\n",
       "      <td>34.531396</td>\n",
       "      <td>13.454209</td>\n",
       "      <td>23</td>\n",
       "      <td>62</td>\n",
       "      <td>Bad</td>\n",
       "      <td>1</td>\n",
       "      <td>L</td>\n",
       "      <td>medium</td>\n",
       "    </tr>\n",
       "  </tbody>\n",
       "</table>\n",
       "<p>468 rows × 18 columns</p>\n",
       "</div>"
      ],
      "text/plain": [
       "     Unnamed: 0 gender NationalITy PlaceofBirth       StageID GradeID  \\\n",
       "0             0      M          KW       KuwaIT    lowerlevel    G-04   \n",
       "1             1      M          KW       KuwaIT    lowerlevel    G-04   \n",
       "2             2      M          KW       KuwaIT    lowerlevel    G-04   \n",
       "3             3      M          KW       KuwaIT    lowerlevel    G-04   \n",
       "4             4      M          KW       KuwaIT    lowerlevel    G-04   \n",
       "..          ...    ...         ...          ...           ...     ...   \n",
       "463         474      F      Jordan       Jordan  MiddleSchool    G-08   \n",
       "464         476      F      Jordan       Jordan  MiddleSchool    G-08   \n",
       "465         477      F      Jordan       Jordan  MiddleSchool    G-08   \n",
       "466         478      F      Jordan       Jordan  MiddleSchool    G-08   \n",
       "467         479      F      Jordan       Jordan  MiddleSchool    G-08   \n",
       "\n",
       "    SectionID      Topic Semester Relation  raisedhands  VisITedResources  \\\n",
       "0           A         IT        F   Father    14.531396         15.454209   \n",
       "1           A         IT        F   Father    19.531396         19.454209   \n",
       "2           A         IT        F   Father     9.531396          6.454209   \n",
       "3           A         IT        F   Father    29.531396         24.454209   \n",
       "4           A         IT        F   Father    39.531396         49.454209   \n",
       "..        ...        ...      ...      ...          ...               ...   \n",
       "463         A  Chemistry        F   Father     1.531396          6.454209   \n",
       "464         A    Geology        F   Father    49.531396         76.454209   \n",
       "465         A    Geology        S   Father    54.531396         73.454209   \n",
       "466         A    History        F   Father    29.531396         16.454209   \n",
       "467         A    History        S   Father    34.531396         13.454209   \n",
       "\n",
       "     AnnouncementsView  Discussion ParentschoolSatisfaction  \\\n",
       "0                    2          20                     Good   \n",
       "1                    3          25                     Good   \n",
       "2                    0          30                      Bad   \n",
       "3                    5          35                      Bad   \n",
       "4                   12          50                      Bad   \n",
       "..                 ...         ...                      ...   \n",
       "463                  4           8                      Bad   \n",
       "464                 14          28                      Bad   \n",
       "465                 25          29                      Bad   \n",
       "466                 14          57                      Bad   \n",
       "467                 23          62                      Bad   \n",
       "\n",
       "     StudentAbsenceDays Class    bins  \n",
       "0                     0     M   small  \n",
       "1                     0     M   small  \n",
       "2                     1     L   small  \n",
       "3                     1     L  medium  \n",
       "4                     1     M  medium  \n",
       "..                  ...   ...     ...  \n",
       "463                   1     L   small  \n",
       "464                   0     M   small  \n",
       "465                   0     M   small  \n",
       "466                   1     L  medium  \n",
       "467                   1     L  medium  \n",
       "\n",
       "[468 rows x 18 columns]"
      ]
     },
     "execution_count": 53,
     "metadata": {},
     "output_type": "execute_result"
    }
   ],
   "source": [
    "new=pd.read_csv(\"output_II.csv\")\n",
    "new"
   ]
  },
  {
   "cell_type": "code",
   "execution_count": null,
   "id": "05ab4bcb",
   "metadata": {},
   "outputs": [],
   "source": []
  }
 ],
 "metadata": {
  "kernelspec": {
   "display_name": "Python 3 (ipykernel)",
   "language": "python",
   "name": "python3"
  },
  "language_info": {
   "codemirror_mode": {
    "name": "ipython",
    "version": 3
   },
   "file_extension": ".py",
   "mimetype": "text/x-python",
   "name": "python",
   "nbconvert_exporter": "python",
   "pygments_lexer": "ipython3",
   "version": "3.11.2"
  }
 },
 "nbformat": 4,
 "nbformat_minor": 5
}
