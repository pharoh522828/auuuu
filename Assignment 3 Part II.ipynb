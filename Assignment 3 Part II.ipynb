{
 "cells": [
  {
   "cell_type": "code",
   "execution_count": 1,
   "metadata": {},
   "outputs": [],
   "source": [
    "import pandas as pd\n",
    "import numpy as np"
   ]
  },
  {
   "cell_type": "raw",
   "metadata": {},
   "source": [
    "Reading the csv file"
   ]
  },
  {
   "cell_type": "code",
   "execution_count": 2,
   "metadata": {},
   "outputs": [],
   "source": [
    "new=pd.read_csv(\"ANTI_DATASET.csv\")"
   ]
  },
  {
   "cell_type": "code",
   "execution_count": 3,
   "metadata": {},
   "outputs": [
    {
     "data": {
      "text/html": [
       "<div>\n",
       "<style scoped>\n",
       "    .dataframe tbody tr th:only-of-type {\n",
       "        vertical-align: middle;\n",
       "    }\n",
       "\n",
       "    .dataframe tbody tr th {\n",
       "        vertical-align: top;\n",
       "    }\n",
       "\n",
       "    .dataframe thead th {\n",
       "        text-align: right;\n",
       "    }\n",
       "</style>\n",
       "<table border=\"1\" class=\"dataframe\">\n",
       "  <thead>\n",
       "    <tr style=\"text-align: right;\">\n",
       "      <th></th>\n",
       "      <th>ANTI_A</th>\n",
       "      <th>ANTI_B</th>\n",
       "      <th>V1</th>\n",
       "    </tr>\n",
       "  </thead>\n",
       "  <tbody>\n",
       "    <tr>\n",
       "      <th>0</th>\n",
       "      <td>2.77</td>\n",
       "      <td>98.1</td>\n",
       "      <td>6.0</td>\n",
       "    </tr>\n",
       "    <tr>\n",
       "      <th>1</th>\n",
       "      <td>9.79</td>\n",
       "      <td>16.8</td>\n",
       "      <td>6.7</td>\n",
       "    </tr>\n",
       "    <tr>\n",
       "      <th>2</th>\n",
       "      <td>9.29</td>\n",
       "      <td>13.6</td>\n",
       "      <td>7.5</td>\n",
       "    </tr>\n",
       "    <tr>\n",
       "      <th>3</th>\n",
       "      <td>3.41</td>\n",
       "      <td>1.6</td>\n",
       "      <td>7.6</td>\n",
       "    </tr>\n",
       "    <tr>\n",
       "      <th>4</th>\n",
       "      <td>9.83</td>\n",
       "      <td>55.3</td>\n",
       "      <td>8.4</td>\n",
       "    </tr>\n",
       "    <tr>\n",
       "      <th>5</th>\n",
       "      <td>5.76</td>\n",
       "      <td>94.4</td>\n",
       "      <td>9.3</td>\n",
       "    </tr>\n",
       "    <tr>\n",
       "      <th>6</th>\n",
       "      <td>2.73</td>\n",
       "      <td>67.2</td>\n",
       "      <td>9.4</td>\n",
       "    </tr>\n",
       "    <tr>\n",
       "      <th>7</th>\n",
       "      <td>0.17</td>\n",
       "      <td>41.9</td>\n",
       "      <td>9.6</td>\n",
       "    </tr>\n",
       "    <tr>\n",
       "      <th>8</th>\n",
       "      <td>7.50</td>\n",
       "      <td>22.7</td>\n",
       "      <td>10.6</td>\n",
       "    </tr>\n",
       "    <tr>\n",
       "      <th>9</th>\n",
       "      <td>0.21</td>\n",
       "      <td>39.6</td>\n",
       "      <td>11.2</td>\n",
       "    </tr>\n",
       "    <tr>\n",
       "      <th>10</th>\n",
       "      <td>0.66</td>\n",
       "      <td>61.6</td>\n",
       "      <td>11.3</td>\n",
       "    </tr>\n",
       "    <tr>\n",
       "      <th>11</th>\n",
       "      <td>2.84</td>\n",
       "      <td>78.9</td>\n",
       "      <td>11.5</td>\n",
       "    </tr>\n",
       "    <tr>\n",
       "      <th>12</th>\n",
       "      <td>7.90</td>\n",
       "      <td>15.5</td>\n",
       "      <td>11.5</td>\n",
       "    </tr>\n",
       "    <tr>\n",
       "      <th>13</th>\n",
       "      <td>2.00</td>\n",
       "      <td>93.3</td>\n",
       "      <td>11.9</td>\n",
       "    </tr>\n",
       "    <tr>\n",
       "      <th>14</th>\n",
       "      <td>5.07</td>\n",
       "      <td>87.9</td>\n",
       "      <td>13.0</td>\n",
       "    </tr>\n",
       "    <tr>\n",
       "      <th>15</th>\n",
       "      <td>2.14</td>\n",
       "      <td>85.0</td>\n",
       "      <td>13.8</td>\n",
       "    </tr>\n",
       "    <tr>\n",
       "      <th>16</th>\n",
       "      <td>9.94</td>\n",
       "      <td>16.4</td>\n",
       "      <td>14.1</td>\n",
       "    </tr>\n",
       "    <tr>\n",
       "      <th>17</th>\n",
       "      <td>7.21</td>\n",
       "      <td>20.6</td>\n",
       "      <td>14.9</td>\n",
       "    </tr>\n",
       "    <tr>\n",
       "      <th>18</th>\n",
       "      <td>4.41</td>\n",
       "      <td>4.8</td>\n",
       "      <td>15.2</td>\n",
       "    </tr>\n",
       "    <tr>\n",
       "      <th>19</th>\n",
       "      <td>8.70</td>\n",
       "      <td>48.3</td>\n",
       "      <td>15.8</td>\n",
       "    </tr>\n",
       "    <tr>\n",
       "      <th>20</th>\n",
       "      <td>3.05</td>\n",
       "      <td>86.3</td>\n",
       "      <td>16.5</td>\n",
       "    </tr>\n",
       "    <tr>\n",
       "      <th>21</th>\n",
       "      <td>9.34</td>\n",
       "      <td>52.6</td>\n",
       "      <td>17.7</td>\n",
       "    </tr>\n",
       "    <tr>\n",
       "      <th>22</th>\n",
       "      <td>7.36</td>\n",
       "      <td>13.0</td>\n",
       "      <td>21.4</td>\n",
       "    </tr>\n",
       "    <tr>\n",
       "      <th>23</th>\n",
       "      <td>7.79</td>\n",
       "      <td>61.4</td>\n",
       "      <td>55.5</td>\n",
       "    </tr>\n",
       "    <tr>\n",
       "      <th>24</th>\n",
       "      <td>4.24</td>\n",
       "      <td>53.3</td>\n",
       "      <td>60.0</td>\n",
       "    </tr>\n",
       "    <tr>\n",
       "      <th>25</th>\n",
       "      <td>0.63</td>\n",
       "      <td>11.3</td>\n",
       "      <td>61.4</td>\n",
       "    </tr>\n",
       "    <tr>\n",
       "      <th>26</th>\n",
       "      <td>1.43</td>\n",
       "      <td>26.2</td>\n",
       "      <td>62.1</td>\n",
       "    </tr>\n",
       "    <tr>\n",
       "      <th>27</th>\n",
       "      <td>1.44</td>\n",
       "      <td>32.9</td>\n",
       "      <td>64.9</td>\n",
       "    </tr>\n",
       "    <tr>\n",
       "      <th>28</th>\n",
       "      <td>7.34</td>\n",
       "      <td>83.4</td>\n",
       "      <td>64.9</td>\n",
       "    </tr>\n",
       "    <tr>\n",
       "      <th>29</th>\n",
       "      <td>1.74</td>\n",
       "      <td>12.7</td>\n",
       "      <td>69.0</td>\n",
       "    </tr>\n",
       "    <tr>\n",
       "      <th>30</th>\n",
       "      <td>6.12</td>\n",
       "      <td>35.4</td>\n",
       "      <td>70.1</td>\n",
       "    </tr>\n",
       "    <tr>\n",
       "      <th>31</th>\n",
       "      <td>7.59</td>\n",
       "      <td>76.7</td>\n",
       "      <td>73.4</td>\n",
       "    </tr>\n",
       "    <tr>\n",
       "      <th>32</th>\n",
       "      <td>7.31</td>\n",
       "      <td>58.4</td>\n",
       "      <td>74.9</td>\n",
       "    </tr>\n",
       "    <tr>\n",
       "      <th>33</th>\n",
       "      <td>7.17</td>\n",
       "      <td>86.9</td>\n",
       "      <td>76.8</td>\n",
       "    </tr>\n",
       "    <tr>\n",
       "      <th>34</th>\n",
       "      <td>2.99</td>\n",
       "      <td>20.6</td>\n",
       "      <td>77.0</td>\n",
       "    </tr>\n",
       "    <tr>\n",
       "      <th>35</th>\n",
       "      <td>2.84</td>\n",
       "      <td>33.6</td>\n",
       "      <td>77.9</td>\n",
       "    </tr>\n",
       "    <tr>\n",
       "      <th>36</th>\n",
       "      <td>0.67</td>\n",
       "      <td>9.2</td>\n",
       "      <td>80.1</td>\n",
       "    </tr>\n",
       "    <tr>\n",
       "      <th>37</th>\n",
       "      <td>8.62</td>\n",
       "      <td>78.9</td>\n",
       "      <td>81.2</td>\n",
       "    </tr>\n",
       "    <tr>\n",
       "      <th>38</th>\n",
       "      <td>7.44</td>\n",
       "      <td>98.8</td>\n",
       "      <td>83.8</td>\n",
       "    </tr>\n",
       "    <tr>\n",
       "      <th>39</th>\n",
       "      <td>7.21</td>\n",
       "      <td>88.0</td>\n",
       "      <td>90.7</td>\n",
       "    </tr>\n",
       "  </tbody>\n",
       "</table>\n",
       "</div>"
      ],
      "text/plain": [
       "    ANTI_A  ANTI_B    V1\n",
       "0     2.77    98.1   6.0\n",
       "1     9.79    16.8   6.7\n",
       "2     9.29    13.6   7.5\n",
       "3     3.41     1.6   7.6\n",
       "4     9.83    55.3   8.4\n",
       "5     5.76    94.4   9.3\n",
       "6     2.73    67.2   9.4\n",
       "7     0.17    41.9   9.6\n",
       "8     7.50    22.7  10.6\n",
       "9     0.21    39.6  11.2\n",
       "10    0.66    61.6  11.3\n",
       "11    2.84    78.9  11.5\n",
       "12    7.90    15.5  11.5\n",
       "13    2.00    93.3  11.9\n",
       "14    5.07    87.9  13.0\n",
       "15    2.14    85.0  13.8\n",
       "16    9.94    16.4  14.1\n",
       "17    7.21    20.6  14.9\n",
       "18    4.41     4.8  15.2\n",
       "19    8.70    48.3  15.8\n",
       "20    3.05    86.3  16.5\n",
       "21    9.34    52.6  17.7\n",
       "22    7.36    13.0  21.4\n",
       "23    7.79    61.4  55.5\n",
       "24    4.24    53.3  60.0\n",
       "25    0.63    11.3  61.4\n",
       "26    1.43    26.2  62.1\n",
       "27    1.44    32.9  64.9\n",
       "28    7.34    83.4  64.9\n",
       "29    1.74    12.7  69.0\n",
       "30    6.12    35.4  70.1\n",
       "31    7.59    76.7  73.4\n",
       "32    7.31    58.4  74.9\n",
       "33    7.17    86.9  76.8\n",
       "34    2.99    20.6  77.0\n",
       "35    2.84    33.6  77.9\n",
       "36    0.67     9.2  80.1\n",
       "37    8.62    78.9  81.2\n",
       "38    7.44    98.8  83.8\n",
       "39    7.21    88.0  90.7"
      ]
     },
     "execution_count": 3,
     "metadata": {},
     "output_type": "execute_result"
    }
   ],
   "source": [
    "new"
   ]
  },
  {
   "cell_type": "code",
   "execution_count": 4,
   "metadata": {},
   "outputs": [
    {
     "data": {
      "text/html": [
       "<div>\n",
       "<style scoped>\n",
       "    .dataframe tbody tr th:only-of-type {\n",
       "        vertical-align: middle;\n",
       "    }\n",
       "\n",
       "    .dataframe tbody tr th {\n",
       "        vertical-align: top;\n",
       "    }\n",
       "\n",
       "    .dataframe thead th {\n",
       "        text-align: right;\n",
       "    }\n",
       "</style>\n",
       "<table border=\"1\" class=\"dataframe\">\n",
       "  <thead>\n",
       "    <tr style=\"text-align: right;\">\n",
       "      <th></th>\n",
       "      <th>V1</th>\n",
       "    </tr>\n",
       "  </thead>\n",
       "  <tbody>\n",
       "    <tr>\n",
       "      <th>count</th>\n",
       "      <td>40.000000</td>\n",
       "    </tr>\n",
       "    <tr>\n",
       "      <th>mean</th>\n",
       "      <td>37.465000</td>\n",
       "    </tr>\n",
       "    <tr>\n",
       "      <th>std</th>\n",
       "      <td>30.809885</td>\n",
       "    </tr>\n",
       "    <tr>\n",
       "      <th>min</th>\n",
       "      <td>6.000000</td>\n",
       "    </tr>\n",
       "    <tr>\n",
       "      <th>25%</th>\n",
       "      <td>11.275000</td>\n",
       "    </tr>\n",
       "    <tr>\n",
       "      <th>50%</th>\n",
       "      <td>16.150000</td>\n",
       "    </tr>\n",
       "    <tr>\n",
       "      <th>75%</th>\n",
       "      <td>69.275000</td>\n",
       "    </tr>\n",
       "    <tr>\n",
       "      <th>max</th>\n",
       "      <td>90.700000</td>\n",
       "    </tr>\n",
       "  </tbody>\n",
       "</table>\n",
       "</div>"
      ],
      "text/plain": [
       "              V1\n",
       "count  40.000000\n",
       "mean   37.465000\n",
       "std    30.809885\n",
       "min     6.000000\n",
       "25%    11.275000\n",
       "50%    16.150000\n",
       "75%    69.275000\n",
       "max    90.700000"
      ]
     },
     "execution_count": 4,
     "metadata": {},
     "output_type": "execute_result"
    }
   ],
   "source": [
    "new[[\"V1\"]].describe()\n",
    "    "
   ]
  },
  {
   "cell_type": "markdown",
   "metadata": {},
   "source": [
    "## Binning (cut Function)"
   ]
  },
  {
   "cell_type": "code",
   "execution_count": 5,
   "metadata": {},
   "outputs": [],
   "source": [
    "bins=np.linspace(6,90.7,6)\n",
    "\n"
   ]
  },
  {
   "cell_type": "code",
   "execution_count": 6,
   "metadata": {},
   "outputs": [
    {
     "data": {
      "text/plain": [
       "array([ 6.  , 22.94, 39.88, 56.82, 73.76, 90.7 ])"
      ]
     },
     "execution_count": 6,
     "metadata": {},
     "output_type": "execute_result"
    }
   ],
   "source": [
    "bins"
   ]
  },
  {
   "cell_type": "code",
   "execution_count": 7,
   "metadata": {},
   "outputs": [],
   "source": [
    "category=[\"V1\",\"V2\",\"V3\",\"V4\",\"V5\"]\n",
    "new[\"VIRUS_TYPE\"]=pd.cut(new[\"V1\"],bins,labels=category,include_lowest=True)"
   ]
  },
  {
   "cell_type": "code",
   "execution_count": 8,
   "metadata": {
    "scrolled": true
   },
   "outputs": [
    {
     "data": {
      "text/html": [
       "<div>\n",
       "<style scoped>\n",
       "    .dataframe tbody tr th:only-of-type {\n",
       "        vertical-align: middle;\n",
       "    }\n",
       "\n",
       "    .dataframe tbody tr th {\n",
       "        vertical-align: top;\n",
       "    }\n",
       "\n",
       "    .dataframe thead th {\n",
       "        text-align: right;\n",
       "    }\n",
       "</style>\n",
       "<table border=\"1\" class=\"dataframe\">\n",
       "  <thead>\n",
       "    <tr style=\"text-align: right;\">\n",
       "      <th></th>\n",
       "      <th>ANTI_A</th>\n",
       "      <th>ANTI_B</th>\n",
       "      <th>V1</th>\n",
       "      <th>VIRUS_TYPE</th>\n",
       "    </tr>\n",
       "  </thead>\n",
       "  <tbody>\n",
       "    <tr>\n",
       "      <th>0</th>\n",
       "      <td>2.77</td>\n",
       "      <td>98.1</td>\n",
       "      <td>6.0</td>\n",
       "      <td>V1</td>\n",
       "    </tr>\n",
       "    <tr>\n",
       "      <th>1</th>\n",
       "      <td>9.79</td>\n",
       "      <td>16.8</td>\n",
       "      <td>6.7</td>\n",
       "      <td>V1</td>\n",
       "    </tr>\n",
       "    <tr>\n",
       "      <th>2</th>\n",
       "      <td>9.29</td>\n",
       "      <td>13.6</td>\n",
       "      <td>7.5</td>\n",
       "      <td>V1</td>\n",
       "    </tr>\n",
       "    <tr>\n",
       "      <th>3</th>\n",
       "      <td>3.41</td>\n",
       "      <td>1.6</td>\n",
       "      <td>7.6</td>\n",
       "      <td>V1</td>\n",
       "    </tr>\n",
       "    <tr>\n",
       "      <th>4</th>\n",
       "      <td>9.83</td>\n",
       "      <td>55.3</td>\n",
       "      <td>8.4</td>\n",
       "      <td>V1</td>\n",
       "    </tr>\n",
       "    <tr>\n",
       "      <th>5</th>\n",
       "      <td>5.76</td>\n",
       "      <td>94.4</td>\n",
       "      <td>9.3</td>\n",
       "      <td>V1</td>\n",
       "    </tr>\n",
       "    <tr>\n",
       "      <th>6</th>\n",
       "      <td>2.73</td>\n",
       "      <td>67.2</td>\n",
       "      <td>9.4</td>\n",
       "      <td>V1</td>\n",
       "    </tr>\n",
       "    <tr>\n",
       "      <th>7</th>\n",
       "      <td>0.17</td>\n",
       "      <td>41.9</td>\n",
       "      <td>9.6</td>\n",
       "      <td>V1</td>\n",
       "    </tr>\n",
       "    <tr>\n",
       "      <th>8</th>\n",
       "      <td>7.50</td>\n",
       "      <td>22.7</td>\n",
       "      <td>10.6</td>\n",
       "      <td>V1</td>\n",
       "    </tr>\n",
       "    <tr>\n",
       "      <th>9</th>\n",
       "      <td>0.21</td>\n",
       "      <td>39.6</td>\n",
       "      <td>11.2</td>\n",
       "      <td>V1</td>\n",
       "    </tr>\n",
       "  </tbody>\n",
       "</table>\n",
       "</div>"
      ],
      "text/plain": [
       "   ANTI_A  ANTI_B    V1 VIRUS_TYPE\n",
       "0    2.77    98.1   6.0         V1\n",
       "1    9.79    16.8   6.7         V1\n",
       "2    9.29    13.6   7.5         V1\n",
       "3    3.41     1.6   7.6         V1\n",
       "4    9.83    55.3   8.4         V1\n",
       "5    5.76    94.4   9.3         V1\n",
       "6    2.73    67.2   9.4         V1\n",
       "7    0.17    41.9   9.6         V1\n",
       "8    7.50    22.7  10.6         V1\n",
       "9    0.21    39.6  11.2         V1"
      ]
     },
     "execution_count": 8,
     "metadata": {},
     "output_type": "execute_result"
    }
   ],
   "source": [
    "new.head(10)"
   ]
  },
  {
   "cell_type": "markdown",
   "metadata": {},
   "source": [
    "## Binning (qcut Function)"
   ]
  },
  {
   "cell_type": "code",
   "execution_count": 9,
   "metadata": {
    "scrolled": true
   },
   "outputs": [
    {
     "data": {
      "text/plain": [
       "0     (5.999, 10.4]\n",
       "1     (5.999, 10.4]\n",
       "2     (5.999, 10.4]\n",
       "3     (5.999, 10.4]\n",
       "4     (5.999, 10.4]\n",
       "5     (5.999, 10.4]\n",
       "6     (5.999, 10.4]\n",
       "7     (5.999, 10.4]\n",
       "8     (10.4, 13.98]\n",
       "9     (10.4, 13.98]\n",
       "10    (10.4, 13.98]\n",
       "11    (10.4, 13.98]\n",
       "12    (10.4, 13.98]\n",
       "13    (10.4, 13.98]\n",
       "14    (10.4, 13.98]\n",
       "15    (10.4, 13.98]\n",
       "16    (13.98, 57.3]\n",
       "17    (13.98, 57.3]\n",
       "18    (13.98, 57.3]\n",
       "19    (13.98, 57.3]\n",
       "20    (13.98, 57.3]\n",
       "21    (13.98, 57.3]\n",
       "22    (13.98, 57.3]\n",
       "23    (13.98, 57.3]\n",
       "24     (57.3, 73.7]\n",
       "25     (57.3, 73.7]\n",
       "26     (57.3, 73.7]\n",
       "27     (57.3, 73.7]\n",
       "28     (57.3, 73.7]\n",
       "29     (57.3, 73.7]\n",
       "30     (57.3, 73.7]\n",
       "31     (57.3, 73.7]\n",
       "32     (73.7, 90.7]\n",
       "33     (73.7, 90.7]\n",
       "34     (73.7, 90.7]\n",
       "35     (73.7, 90.7]\n",
       "36     (73.7, 90.7]\n",
       "37     (73.7, 90.7]\n",
       "38     (73.7, 90.7]\n",
       "39     (73.7, 90.7]\n",
       "Name: V1, dtype: category\n",
       "Categories (5, interval[float64, right]): [(5.999, 10.4] < (10.4, 13.98] < (13.98, 57.3] < (57.3, 73.7] < (73.7, 90.7]]"
      ]
     },
     "execution_count": 9,
     "metadata": {},
     "output_type": "execute_result"
    }
   ],
   "source": [
    "pd.qcut(new['V1'],q=5)"
   ]
  },
  {
   "cell_type": "code",
   "execution_count": 10,
   "metadata": {},
   "outputs": [
    {
     "data": {
      "text/plain": [
       "array([ 6.  , 48.35, 90.7 ])"
      ]
     },
     "execution_count": 10,
     "metadata": {},
     "output_type": "execute_result"
    }
   ],
   "source": [
    "bins=np.linspace(6,90.7,3)\n",
    "bins\n"
   ]
  },
  {
   "cell_type": "markdown",
   "metadata": {},
   "source": [
    "## Low and High virus"
   ]
  },
  {
   "cell_type": "code",
   "execution_count": 11,
   "metadata": {},
   "outputs": [
    {
     "data": {
      "text/html": [
       "<div>\n",
       "<style scoped>\n",
       "    .dataframe tbody tr th:only-of-type {\n",
       "        vertical-align: middle;\n",
       "    }\n",
       "\n",
       "    .dataframe tbody tr th {\n",
       "        vertical-align: top;\n",
       "    }\n",
       "\n",
       "    .dataframe thead th {\n",
       "        text-align: right;\n",
       "    }\n",
       "</style>\n",
       "<table border=\"1\" class=\"dataframe\">\n",
       "  <thead>\n",
       "    <tr style=\"text-align: right;\">\n",
       "      <th></th>\n",
       "      <th>ANTI_A</th>\n",
       "      <th>ANTI_B</th>\n",
       "      <th>V1</th>\n",
       "      <th>VIRUS_TYPE</th>\n",
       "      <th>Virus_power</th>\n",
       "    </tr>\n",
       "  </thead>\n",
       "  <tbody>\n",
       "    <tr>\n",
       "      <th>0</th>\n",
       "      <td>2.77</td>\n",
       "      <td>98.1</td>\n",
       "      <td>6.0</td>\n",
       "      <td>V1</td>\n",
       "      <td>low</td>\n",
       "    </tr>\n",
       "    <tr>\n",
       "      <th>1</th>\n",
       "      <td>9.79</td>\n",
       "      <td>16.8</td>\n",
       "      <td>6.7</td>\n",
       "      <td>V1</td>\n",
       "      <td>low</td>\n",
       "    </tr>\n",
       "    <tr>\n",
       "      <th>2</th>\n",
       "      <td>9.29</td>\n",
       "      <td>13.6</td>\n",
       "      <td>7.5</td>\n",
       "      <td>V1</td>\n",
       "      <td>low</td>\n",
       "    </tr>\n",
       "    <tr>\n",
       "      <th>3</th>\n",
       "      <td>3.41</td>\n",
       "      <td>1.6</td>\n",
       "      <td>7.6</td>\n",
       "      <td>V1</td>\n",
       "      <td>low</td>\n",
       "    </tr>\n",
       "    <tr>\n",
       "      <th>4</th>\n",
       "      <td>9.83</td>\n",
       "      <td>55.3</td>\n",
       "      <td>8.4</td>\n",
       "      <td>V1</td>\n",
       "      <td>low</td>\n",
       "    </tr>\n",
       "    <tr>\n",
       "      <th>5</th>\n",
       "      <td>5.76</td>\n",
       "      <td>94.4</td>\n",
       "      <td>9.3</td>\n",
       "      <td>V1</td>\n",
       "      <td>low</td>\n",
       "    </tr>\n",
       "    <tr>\n",
       "      <th>6</th>\n",
       "      <td>2.73</td>\n",
       "      <td>67.2</td>\n",
       "      <td>9.4</td>\n",
       "      <td>V1</td>\n",
       "      <td>low</td>\n",
       "    </tr>\n",
       "    <tr>\n",
       "      <th>7</th>\n",
       "      <td>0.17</td>\n",
       "      <td>41.9</td>\n",
       "      <td>9.6</td>\n",
       "      <td>V1</td>\n",
       "      <td>low</td>\n",
       "    </tr>\n",
       "    <tr>\n",
       "      <th>8</th>\n",
       "      <td>7.50</td>\n",
       "      <td>22.7</td>\n",
       "      <td>10.6</td>\n",
       "      <td>V1</td>\n",
       "      <td>low</td>\n",
       "    </tr>\n",
       "    <tr>\n",
       "      <th>9</th>\n",
       "      <td>0.21</td>\n",
       "      <td>39.6</td>\n",
       "      <td>11.2</td>\n",
       "      <td>V1</td>\n",
       "      <td>low</td>\n",
       "    </tr>\n",
       "    <tr>\n",
       "      <th>10</th>\n",
       "      <td>0.66</td>\n",
       "      <td>61.6</td>\n",
       "      <td>11.3</td>\n",
       "      <td>V1</td>\n",
       "      <td>low</td>\n",
       "    </tr>\n",
       "    <tr>\n",
       "      <th>11</th>\n",
       "      <td>2.84</td>\n",
       "      <td>78.9</td>\n",
       "      <td>11.5</td>\n",
       "      <td>V1</td>\n",
       "      <td>low</td>\n",
       "    </tr>\n",
       "    <tr>\n",
       "      <th>12</th>\n",
       "      <td>7.90</td>\n",
       "      <td>15.5</td>\n",
       "      <td>11.5</td>\n",
       "      <td>V1</td>\n",
       "      <td>low</td>\n",
       "    </tr>\n",
       "    <tr>\n",
       "      <th>13</th>\n",
       "      <td>2.00</td>\n",
       "      <td>93.3</td>\n",
       "      <td>11.9</td>\n",
       "      <td>V1</td>\n",
       "      <td>low</td>\n",
       "    </tr>\n",
       "    <tr>\n",
       "      <th>14</th>\n",
       "      <td>5.07</td>\n",
       "      <td>87.9</td>\n",
       "      <td>13.0</td>\n",
       "      <td>V1</td>\n",
       "      <td>low</td>\n",
       "    </tr>\n",
       "    <tr>\n",
       "      <th>15</th>\n",
       "      <td>2.14</td>\n",
       "      <td>85.0</td>\n",
       "      <td>13.8</td>\n",
       "      <td>V1</td>\n",
       "      <td>low</td>\n",
       "    </tr>\n",
       "    <tr>\n",
       "      <th>16</th>\n",
       "      <td>9.94</td>\n",
       "      <td>16.4</td>\n",
       "      <td>14.1</td>\n",
       "      <td>V1</td>\n",
       "      <td>low</td>\n",
       "    </tr>\n",
       "    <tr>\n",
       "      <th>17</th>\n",
       "      <td>7.21</td>\n",
       "      <td>20.6</td>\n",
       "      <td>14.9</td>\n",
       "      <td>V1</td>\n",
       "      <td>low</td>\n",
       "    </tr>\n",
       "    <tr>\n",
       "      <th>18</th>\n",
       "      <td>4.41</td>\n",
       "      <td>4.8</td>\n",
       "      <td>15.2</td>\n",
       "      <td>V1</td>\n",
       "      <td>low</td>\n",
       "    </tr>\n",
       "    <tr>\n",
       "      <th>19</th>\n",
       "      <td>8.70</td>\n",
       "      <td>48.3</td>\n",
       "      <td>15.8</td>\n",
       "      <td>V1</td>\n",
       "      <td>low</td>\n",
       "    </tr>\n",
       "    <tr>\n",
       "      <th>20</th>\n",
       "      <td>3.05</td>\n",
       "      <td>86.3</td>\n",
       "      <td>16.5</td>\n",
       "      <td>V1</td>\n",
       "      <td>low</td>\n",
       "    </tr>\n",
       "    <tr>\n",
       "      <th>21</th>\n",
       "      <td>9.34</td>\n",
       "      <td>52.6</td>\n",
       "      <td>17.7</td>\n",
       "      <td>V1</td>\n",
       "      <td>low</td>\n",
       "    </tr>\n",
       "    <tr>\n",
       "      <th>22</th>\n",
       "      <td>7.36</td>\n",
       "      <td>13.0</td>\n",
       "      <td>21.4</td>\n",
       "      <td>V1</td>\n",
       "      <td>low</td>\n",
       "    </tr>\n",
       "    <tr>\n",
       "      <th>23</th>\n",
       "      <td>7.79</td>\n",
       "      <td>61.4</td>\n",
       "      <td>55.5</td>\n",
       "      <td>V3</td>\n",
       "      <td>high</td>\n",
       "    </tr>\n",
       "    <tr>\n",
       "      <th>24</th>\n",
       "      <td>4.24</td>\n",
       "      <td>53.3</td>\n",
       "      <td>60.0</td>\n",
       "      <td>V4</td>\n",
       "      <td>high</td>\n",
       "    </tr>\n",
       "    <tr>\n",
       "      <th>25</th>\n",
       "      <td>0.63</td>\n",
       "      <td>11.3</td>\n",
       "      <td>61.4</td>\n",
       "      <td>V4</td>\n",
       "      <td>high</td>\n",
       "    </tr>\n",
       "    <tr>\n",
       "      <th>26</th>\n",
       "      <td>1.43</td>\n",
       "      <td>26.2</td>\n",
       "      <td>62.1</td>\n",
       "      <td>V4</td>\n",
       "      <td>high</td>\n",
       "    </tr>\n",
       "    <tr>\n",
       "      <th>27</th>\n",
       "      <td>1.44</td>\n",
       "      <td>32.9</td>\n",
       "      <td>64.9</td>\n",
       "      <td>V4</td>\n",
       "      <td>high</td>\n",
       "    </tr>\n",
       "    <tr>\n",
       "      <th>28</th>\n",
       "      <td>7.34</td>\n",
       "      <td>83.4</td>\n",
       "      <td>64.9</td>\n",
       "      <td>V4</td>\n",
       "      <td>high</td>\n",
       "    </tr>\n",
       "    <tr>\n",
       "      <th>29</th>\n",
       "      <td>1.74</td>\n",
       "      <td>12.7</td>\n",
       "      <td>69.0</td>\n",
       "      <td>V4</td>\n",
       "      <td>high</td>\n",
       "    </tr>\n",
       "    <tr>\n",
       "      <th>30</th>\n",
       "      <td>6.12</td>\n",
       "      <td>35.4</td>\n",
       "      <td>70.1</td>\n",
       "      <td>V4</td>\n",
       "      <td>high</td>\n",
       "    </tr>\n",
       "    <tr>\n",
       "      <th>31</th>\n",
       "      <td>7.59</td>\n",
       "      <td>76.7</td>\n",
       "      <td>73.4</td>\n",
       "      <td>V4</td>\n",
       "      <td>high</td>\n",
       "    </tr>\n",
       "    <tr>\n",
       "      <th>32</th>\n",
       "      <td>7.31</td>\n",
       "      <td>58.4</td>\n",
       "      <td>74.9</td>\n",
       "      <td>V5</td>\n",
       "      <td>high</td>\n",
       "    </tr>\n",
       "    <tr>\n",
       "      <th>33</th>\n",
       "      <td>7.17</td>\n",
       "      <td>86.9</td>\n",
       "      <td>76.8</td>\n",
       "      <td>V5</td>\n",
       "      <td>high</td>\n",
       "    </tr>\n",
       "    <tr>\n",
       "      <th>34</th>\n",
       "      <td>2.99</td>\n",
       "      <td>20.6</td>\n",
       "      <td>77.0</td>\n",
       "      <td>V5</td>\n",
       "      <td>high</td>\n",
       "    </tr>\n",
       "    <tr>\n",
       "      <th>35</th>\n",
       "      <td>2.84</td>\n",
       "      <td>33.6</td>\n",
       "      <td>77.9</td>\n",
       "      <td>V5</td>\n",
       "      <td>high</td>\n",
       "    </tr>\n",
       "    <tr>\n",
       "      <th>36</th>\n",
       "      <td>0.67</td>\n",
       "      <td>9.2</td>\n",
       "      <td>80.1</td>\n",
       "      <td>V5</td>\n",
       "      <td>high</td>\n",
       "    </tr>\n",
       "    <tr>\n",
       "      <th>37</th>\n",
       "      <td>8.62</td>\n",
       "      <td>78.9</td>\n",
       "      <td>81.2</td>\n",
       "      <td>V5</td>\n",
       "      <td>high</td>\n",
       "    </tr>\n",
       "    <tr>\n",
       "      <th>38</th>\n",
       "      <td>7.44</td>\n",
       "      <td>98.8</td>\n",
       "      <td>83.8</td>\n",
       "      <td>V5</td>\n",
       "      <td>high</td>\n",
       "    </tr>\n",
       "    <tr>\n",
       "      <th>39</th>\n",
       "      <td>7.21</td>\n",
       "      <td>88.0</td>\n",
       "      <td>90.7</td>\n",
       "      <td>V5</td>\n",
       "      <td>high</td>\n",
       "    </tr>\n",
       "  </tbody>\n",
       "</table>\n",
       "</div>"
      ],
      "text/plain": [
       "    ANTI_A  ANTI_B    V1 VIRUS_TYPE Virus_power\n",
       "0     2.77    98.1   6.0         V1         low\n",
       "1     9.79    16.8   6.7         V1         low\n",
       "2     9.29    13.6   7.5         V1         low\n",
       "3     3.41     1.6   7.6         V1         low\n",
       "4     9.83    55.3   8.4         V1         low\n",
       "5     5.76    94.4   9.3         V1         low\n",
       "6     2.73    67.2   9.4         V1         low\n",
       "7     0.17    41.9   9.6         V1         low\n",
       "8     7.50    22.7  10.6         V1         low\n",
       "9     0.21    39.6  11.2         V1         low\n",
       "10    0.66    61.6  11.3         V1         low\n",
       "11    2.84    78.9  11.5         V1         low\n",
       "12    7.90    15.5  11.5         V1         low\n",
       "13    2.00    93.3  11.9         V1         low\n",
       "14    5.07    87.9  13.0         V1         low\n",
       "15    2.14    85.0  13.8         V1         low\n",
       "16    9.94    16.4  14.1         V1         low\n",
       "17    7.21    20.6  14.9         V1         low\n",
       "18    4.41     4.8  15.2         V1         low\n",
       "19    8.70    48.3  15.8         V1         low\n",
       "20    3.05    86.3  16.5         V1         low\n",
       "21    9.34    52.6  17.7         V1         low\n",
       "22    7.36    13.0  21.4         V1         low\n",
       "23    7.79    61.4  55.5         V3        high\n",
       "24    4.24    53.3  60.0         V4        high\n",
       "25    0.63    11.3  61.4         V4        high\n",
       "26    1.43    26.2  62.1         V4        high\n",
       "27    1.44    32.9  64.9         V4        high\n",
       "28    7.34    83.4  64.9         V4        high\n",
       "29    1.74    12.7  69.0         V4        high\n",
       "30    6.12    35.4  70.1         V4        high\n",
       "31    7.59    76.7  73.4         V4        high\n",
       "32    7.31    58.4  74.9         V5        high\n",
       "33    7.17    86.9  76.8         V5        high\n",
       "34    2.99    20.6  77.0         V5        high\n",
       "35    2.84    33.6  77.9         V5        high\n",
       "36    0.67     9.2  80.1         V5        high\n",
       "37    8.62    78.9  81.2         V5        high\n",
       "38    7.44    98.8  83.8         V5        high\n",
       "39    7.21    88.0  90.7         V5        high"
      ]
     },
     "execution_count": 11,
     "metadata": {},
     "output_type": "execute_result"
    }
   ],
   "source": [
    "category=[\"low\",\"high\"]\n",
    "new[\"Virus_power\"]=pd.cut(new[\"V1\"],bins,labels=category,include_lowest=True)\n",
    "new"
   ]
  },
  {
   "cell_type": "code",
   "execution_count": 12,
   "metadata": {},
   "outputs": [
    {
     "name": "stdout",
     "output_type": "stream",
     "text": [
      "    ANTI_A  ANTI_B    V1 VIRUS_TYPE Virus_power\n",
      "0     2.77    98.1   6.0         V1         low\n",
      "1     9.79    16.8   6.7         V1         low\n",
      "2     9.29    13.6   7.5         V1         low\n",
      "3     3.41     1.6   7.6         V1         low\n",
      "4     9.83    55.3   8.4         V1         low\n",
      "5     5.76    94.4   9.3         V1         low\n",
      "6     2.73    67.2   9.4         V1         low\n",
      "7     0.17    41.9   9.6         V1         low\n",
      "8     7.50    22.7  10.6         V1         low\n",
      "9     0.21    39.6  11.2         V1         low\n",
      "10    0.66    61.6  11.3         V1         low\n",
      "11    2.84    78.9  11.5         V1         low\n",
      "12    7.90    15.5  11.5         V1         low\n",
      "13    2.00    93.3  11.9         V1         low\n",
      "14    5.07    87.9  13.0         V1         low\n",
      "15    2.14    85.0  13.8         V1         low\n",
      "16    9.94    16.4  14.1         V1         low\n",
      "17    7.21    20.6  14.9         V1         low\n",
      "18    4.41     4.8  15.2         V1         low\n",
      "19    8.70    48.3  15.8         V1         low\n",
      "20    3.05    86.3  16.5         V1         low\n",
      "21    9.34    52.6  17.7         V1         low\n",
      "22    7.36    13.0  21.4         V1         low\n",
      "\n",
      "\n",
      "    ANTI_A  ANTI_B    V1 VIRUS_TYPE Virus_power\n",
      "23    7.79    61.4  55.5         V3        high\n",
      "24    4.24    53.3  60.0         V4        high\n",
      "25    0.63    11.3  61.4         V4        high\n",
      "26    1.43    26.2  62.1         V4        high\n",
      "27    1.44    32.9  64.9         V4        high\n",
      "28    7.34    83.4  64.9         V4        high\n",
      "29    1.74    12.7  69.0         V4        high\n",
      "30    6.12    35.4  70.1         V4        high\n",
      "31    7.59    76.7  73.4         V4        high\n",
      "32    7.31    58.4  74.9         V5        high\n",
      "33    7.17    86.9  76.8         V5        high\n",
      "34    2.99    20.6  77.0         V5        high\n",
      "35    2.84    33.6  77.9         V5        high\n",
      "36    0.67     9.2  80.1         V5        high\n",
      "37    8.62    78.9  81.2         V5        high\n",
      "38    7.44    98.8  83.8         V5        high\n",
      "39    7.21    88.0  90.7         V5        high\n"
     ]
    }
   ],
   "source": [
    "new1=new.iloc[:23,:]\n",
    "new2=new.iloc[23:,:]\n",
    "print(new1)\n",
    "print(\"\\n\")\n",
    "print(new2)"
   ]
  },
  {
   "cell_type": "markdown",
   "metadata": {},
   "source": [
    "### Mean"
   ]
  },
  {
   "cell_type": "code",
   "execution_count": 13,
   "metadata": {},
   "outputs": [
    {
     "data": {
      "text/plain": [
       "71.98235294117647"
      ]
     },
     "execution_count": 13,
     "metadata": {},
     "output_type": "execute_result"
    }
   ],
   "source": [
    "new1_mean=new1[\"V1\"].mean()\n",
    "new1_mean\n",
    "new2_mean=new2[\"V1\"].mean()\n",
    "new2_mean"
   ]
  },
  {
   "cell_type": "markdown",
   "metadata": {},
   "source": [
    "### Median"
   ]
  },
  {
   "cell_type": "code",
   "execution_count": 14,
   "metadata": {},
   "outputs": [
    {
     "data": {
      "text/plain": [
       "73.4"
      ]
     },
     "execution_count": 14,
     "metadata": {},
     "output_type": "execute_result"
    }
   ],
   "source": [
    "new1_median=new1[\"V1\"].median()\n",
    "new1_median\n",
    "new2_median=new2[\"V1\"].median()\n",
    "new2_median"
   ]
  },
  {
   "cell_type": "markdown",
   "metadata": {},
   "source": [
    "### Standard Deviation"
   ]
  },
  {
   "cell_type": "code",
   "execution_count": 15,
   "metadata": {},
   "outputs": [
    {
     "data": {
      "text/plain": [
       "9.593111805751409"
      ]
     },
     "execution_count": 15,
     "metadata": {},
     "output_type": "execute_result"
    }
   ],
   "source": [
    "new1_std=new1[\"V1\"].std()\n",
    "new1_std\n",
    "new2_std=new2[\"V1\"].std()\n",
    "new2_std"
   ]
  },
  {
   "cell_type": "code",
   "execution_count": 16,
   "metadata": {},
   "outputs": [
    {
     "data": {
      "text/plain": [
       "count    23.000000\n",
       "mean     11.952174\n",
       "std       3.830840\n",
       "min       6.000000\n",
       "25%       9.350000\n",
       "50%      11.500000\n",
       "75%      14.500000\n",
       "max      21.400000\n",
       "Name: V1, dtype: float64"
      ]
     },
     "execution_count": 16,
     "metadata": {},
     "output_type": "execute_result"
    }
   ],
   "source": [
    "new1['V1'].describe()"
   ]
  },
  {
   "cell_type": "code",
   "execution_count": 17,
   "metadata": {},
   "outputs": [
    {
     "data": {
      "text/plain": [
       "count    17.000000\n",
       "mean     71.982353\n",
       "std       9.593112\n",
       "min      55.500000\n",
       "25%      64.900000\n",
       "50%      73.400000\n",
       "75%      77.900000\n",
       "max      90.700000\n",
       "Name: V1, dtype: float64"
      ]
     },
     "execution_count": 17,
     "metadata": {},
     "output_type": "execute_result"
    }
   ],
   "source": [
    "new2['V1'].describe()"
   ]
  },
  {
   "cell_type": "code",
   "execution_count": 18,
   "metadata": {},
   "outputs": [],
   "source": [
    "import matplotlib.pyplot as plt"
   ]
  },
  {
   "cell_type": "markdown",
   "metadata": {},
   "source": [
    "## Boxplots"
   ]
  },
  {
   "cell_type": "code",
   "execution_count": 19,
   "metadata": {},
   "outputs": [
    {
     "data": {
      "image/png": "[encoded data removed]",
      "text/plain": [
       "<Figure size 640x480 with 1 Axes>"
      ]
     },
     "metadata": {},
     "output_type": "display_data"
    }
   ],
   "source": [
    "plt.boxplot(new1['V1'])\n",
    "plt.title(\"Box plot- V1\")\n",
    "plt.ylabel('V1')\n",
    "plt.show()"
   ]
  },
  {
   "cell_type": "code",
   "execution_count": 20,
   "metadata": {},
   "outputs": [
    {
     "data": {
      "image/png": "[encoded data removed]",
      "text/plain": [
       "<Figure size 640x480 with 1 Axes>"
      ]
     },
     "metadata": {},
     "output_type": "display_data"
    }
   ],
   "source": [
    "plt.boxplot(new2['V1'])\n",
    "plt.title(\"Box plot-V1\")\n",
    "plt.ylabel('V1')\n",
    "plt.show()"
   ]
  },
  {
   "cell_type": "code",
   "execution_count": 21,
   "metadata": {},
   "outputs": [
    {
     "data": {
      "text/plain": [
       "ANTI_A          float64\n",
       "ANTI_B          float64\n",
       "V1              float64\n",
       "VIRUS_TYPE     category\n",
       "Virus_power    category\n",
       "dtype: object"
      ]
     },
     "execution_count": 21,
     "metadata": {},
     "output_type": "execute_result"
    }
   ],
   "source": [
    "new.dtypes\n"
   ]
  },
  {
   "cell_type": "code",
   "execution_count": 22,
   "metadata": {},
   "outputs": [],
   "source": [
    "x=new1.copy()"
   ]
  },
  {
   "cell_type": "code",
   "execution_count": 23,
   "metadata": {},
   "outputs": [],
   "source": [
    "y=new2.copy()"
   ]
  },
  {
   "cell_type": "markdown",
   "metadata": {},
   "source": [
    "## Normalization"
   ]
  },
  {
   "cell_type": "code",
   "execution_count": 24,
   "metadata": {},
   "outputs": [],
   "source": [
    "x['ANTI_A']=(x['ANTI_A']-x['ANTI_A'].min())/(x['ANTI_A'].max()-x['ANTI_A'].min())\n",
    "x['ANTI_B']=(x['ANTI_B']-x['ANTI_B'].min())/(x['ANTI_B'].max()-x['ANTI_B'].min())"
   ]
  },
  {
   "cell_type": "code",
   "execution_count": 25,
   "metadata": {},
   "outputs": [
    {
     "data": {
      "text/plain": [
       "0     0.266121\n",
       "1     0.984647\n",
       "2     0.933470\n",
       "3     0.331627\n",
       "4     0.988741\n",
       "5     0.572160\n",
       "6     0.262027\n",
       "7     0.000000\n",
       "8     0.750256\n",
       "9     0.004094\n",
       "10    0.050154\n",
       "11    0.273286\n",
       "12    0.791198\n",
       "13    0.187308\n",
       "14    0.501535\n",
       "15    0.201638\n",
       "16    1.000000\n",
       "17    0.720573\n",
       "18    0.433982\n",
       "19    0.873081\n",
       "20    0.294780\n",
       "21    0.938588\n",
       "22    0.735926\n",
       "Name: ANTI_A, dtype: float64"
      ]
     },
     "execution_count": 25,
     "metadata": {},
     "output_type": "execute_result"
    }
   ],
   "source": [
    "x[\"ANTI_A\"]"
   ]
  },
  {
   "cell_type": "code",
   "execution_count": 26,
   "metadata": {},
   "outputs": [
    {
     "data": {
      "text/plain": [
       "0     1.000000\n",
       "1     0.157513\n",
       "2     0.124352\n",
       "3     0.000000\n",
       "4     0.556477\n",
       "5     0.961658\n",
       "6     0.679793\n",
       "7     0.417617\n",
       "8     0.218653\n",
       "9     0.393782\n",
       "10    0.621762\n",
       "11    0.801036\n",
       "12    0.144041\n",
       "13    0.950259\n",
       "14    0.894301\n",
       "15    0.864249\n",
       "16    0.153368\n",
       "17    0.196891\n",
       "18    0.033161\n",
       "19    0.483938\n",
       "20    0.877720\n",
       "21    0.528497\n",
       "22    0.118135\n",
       "Name: ANTI_B, dtype: float64"
      ]
     },
     "execution_count": 26,
     "metadata": {},
     "output_type": "execute_result"
    }
   ],
   "source": [
    "x[\"ANTI_B\"]"
   ]
  },
  {
   "cell_type": "code",
   "execution_count": 27,
   "metadata": {},
   "outputs": [],
   "source": [
    "y['ANTI_A']=(y['ANTI_A']-y['ANTI_A'].min())/(y['ANTI_A'].max()-y['ANTI_A'].min())\n",
    "y['ANTI_B']=(y['ANTI_B']-y['ANTI_B'].min())/(y['ANTI_B'].max()-y['ANTI_B'].min())"
   ]
  },
  {
   "cell_type": "code",
   "execution_count": 28,
   "metadata": {},
   "outputs": [
    {
     "data": {
      "text/plain": [
       "23    0.896120\n",
       "24    0.451815\n",
       "25    0.000000\n",
       "26    0.100125\n",
       "27    0.101377\n",
       "28    0.839800\n",
       "29    0.138924\n",
       "30    0.687109\n",
       "31    0.871089\n",
       "32    0.836045\n",
       "33    0.818523\n",
       "34    0.295369\n",
       "35    0.276596\n",
       "36    0.005006\n",
       "37    1.000000\n",
       "38    0.852315\n",
       "39    0.823529\n",
       "Name: ANTI_A, dtype: float64"
      ]
     },
     "execution_count": 28,
     "metadata": {},
     "output_type": "execute_result"
    }
   ],
   "source": [
    "y['ANTI_A']"
   ]
  },
  {
   "cell_type": "code",
   "execution_count": 29,
   "metadata": {},
   "outputs": [
    {
     "data": {
      "text/plain": [
       "23    0.582589\n",
       "24    0.492187\n",
       "25    0.023438\n",
       "26    0.189732\n",
       "27    0.264509\n",
       "28    0.828125\n",
       "29    0.039062\n",
       "30    0.292411\n",
       "31    0.753348\n",
       "32    0.549107\n",
       "33    0.867188\n",
       "34    0.127232\n",
       "35    0.272321\n",
       "36    0.000000\n",
       "37    0.777902\n",
       "38    1.000000\n",
       "39    0.879464\n",
       "Name: ANTI_B, dtype: float64"
      ]
     },
     "execution_count": 29,
     "metadata": {},
     "output_type": "execute_result"
    }
   ],
   "source": [
    "y['ANTI_B']"
   ]
  },
  {
   "cell_type": "markdown",
   "metadata": {},
   "source": [
    "## Scatter Plots"
   ]
  },
  {
   "cell_type": "code",
   "execution_count": 30,
   "metadata": {
    "scrolled": true
   },
   "outputs": [
    {
     "data": {
      "image/png": "[encoded data removed]",
      "text/plain": [
       "<Figure size 640x480 with 1 Axes>"
      ]
     },
     "metadata": {},
     "output_type": "display_data"
    }
   ],
   "source": [
    "x.plot.scatter(x='ANTI_A',y='ANTI_B')\n",
    "\n",
    "plt.title('Scatter Plot on ANTI_A v/s ANTI_B')\n",
    "plt.xlabel('ANTI_A')\n",
    "plt.ylabel('ANTI_B')\n",
    "plt.show()"
   ]
  },
  {
   "cell_type": "code",
   "execution_count": 31,
   "metadata": {},
   "outputs": [
    {
     "data": {
      "image/png": "[encoded data removed]",
      "text/plain": [
       "<Figure size 640x480 with 1 Axes>"
      ]
     },
     "metadata": {},
     "output_type": "display_data"
    }
   ],
   "source": [
    "y.plot.scatter(x='ANTI_A',y='ANTI_B')\n",
    "\n",
    "plt.title('Scatter Plot on ANTI_A v/s ANTI_B')\n",
    "plt.xlabel('ANTI_A')\n",
    "plt.ylabel('ANTI_B')\n",
    "plt.show()"
   ]
  },
  {
   "cell_type": "markdown",
   "metadata": {},
   "source": [
    "## Calculating the Pearson correlation coefficient"
   ]
  },
  {
   "cell_type": "code",
   "execution_count": 32,
   "metadata": {},
   "outputs": [
    {
     "data": {
      "text/plain": [
       "-0.44962747254599306"
      ]
     },
     "execution_count": 32,
     "metadata": {},
     "output_type": "execute_result"
    }
   ],
   "source": [
    "x['ANTI_A'].corr(x['ANTI_B'])"
   ]
  },
  {
   "cell_type": "code",
   "execution_count": 33,
   "metadata": {},
   "outputs": [
    {
     "data": {
      "text/plain": [
       "0.8938242533758364"
      ]
     },
     "execution_count": 33,
     "metadata": {},
     "output_type": "execute_result"
    }
   ],
   "source": [
    "y['ANTI_A'].corr(y['ANTI_B'])"
   ]
  },
  {
   "cell_type": "markdown",
   "metadata": {},
   "source": [
    "## Conclusion"
   ]
  },
  {
   "cell_type": "code",
   "execution_count": 34,
   "metadata": {},
   "outputs": [],
   "source": [
    "#x is negatively related and y is positively related"
   ]
  }
 ],
 "metadata": {
  "kernelspec": {
   "display_name": "Python 3 (ipykernel)",
   "language": "python",
   "name": "python3"
  },
  "language_info": {
   "codemirror_mode": {
    "name": "ipython",
    "version": 3
   },
   "file_extension": ".py",
   "mimetype": "text/x-python",
   "name": "python",
   "nbconvert_exporter": "python",
   "pygments_lexer": "ipython3",
   "version": "3.11.2"
  }
 },
 "nbformat": 4,
 "nbformat_minor": 2
}
